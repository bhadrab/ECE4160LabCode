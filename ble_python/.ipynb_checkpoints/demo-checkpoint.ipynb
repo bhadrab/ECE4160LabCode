{
 "cells": [
  {
   "cell_type": "markdown",
   "metadata": {},
   "source": [
    "## Import necessary modules\n",
    "Run this cell before running any other cells"
   ]
  },
  {
   "cell_type": "code",
   "execution_count": 10,
   "metadata": {
    "tags": []
   },
   "outputs": [
    {
     "name": "stdout",
     "output_type": "stream",
     "text": [
      "The autoreload extension is already loaded. To reload it, use:\n",
      "  %reload_ext autoreload\n"
     ]
    }
   ],
   "source": [
    "%load_ext autoreload\n",
    "%autoreload 2\n",
    "\n",
    "from ble import get_ble_controller\n",
    "from base_ble import LOG\n",
    "from cmd_types import CMD\n",
    "import time\n",
    "import numpy as np\n",
    "\n",
    "LOG.propagate = False"
   ]
  },
  {
   "cell_type": "markdown",
   "metadata": {},
   "source": [
    "# Printing and Logging\n",
    "## Printing\n",
    "You can use the **print()** function in Python to print messages to the screen. <br>\n",
    "The message can be a string, or any other object, the object will be converted into a string before it is written to the screen. <br>\n",
    "\n",
    "## Logging\n",
    "You could use the logging module that is setup in *utils.py*. <br>\n",
    "It prints to both your screen (standard output) as well as to log files (*ble.log*) in the *logs* directory. <br>\n",
    "This is the recommended way to output messages, since the log files can help with debugging. <br>\n",
    "The logging module also provides different log levels as shown below, each formatted with a different color for increased visibility. <br>\n",
    "\n",
    "__**NOTE**__: You may notice that the DEBUG message is not printed to the screen but is printed in the log file. This is because the logging level for the screen is set to INFO and for the file is set to DEBUG. You can change the default log levels in *utils.py* (**STREAM_LOG_LEVEL** and **FILE_LOG_LEVEL**). \n",
    "\n",
    "## Formatting output\n",
    "To format your strings, you may use %-formatting, str.format() or f-strings. <br>\n",
    "The most \"pythonic\" way would be to use f-strings. [Here](https://realpython.com/python-f-strings/) is a good tutorial on f-strings. <br>"
   ]
  },
  {
   "cell_type": "code",
   "execution_count": 11,
   "metadata": {
    "tags": []
   },
   "outputs": [
    {
     "name": "stdout",
     "output_type": "stream",
     "text": [
      "2023-02-14 17:23:07,110 |\u001b[32m INFO     \u001b[0m|: info\n",
      "2023-02-14 17:23:07,112 |\u001b[33m WARNING  \u001b[0m|: warning\n",
      "2023-02-14 17:23:07,115 |\u001b[31m ERROR    \u001b[0m|: error\n",
      "2023-02-14 17:23:07,116 |\u001b[31m\u001b[47m\u001b[1m CRITICAL \u001b[0m|: critical\n"
     ]
    }
   ],
   "source": [
    "LOG.debug(\"debug\")\n",
    "LOG.info(\"info\")\n",
    "LOG.warning(\"warning\")\n",
    "LOG.error(\"error\")\n",
    "LOG.critical(\"critical\")"
   ]
  },
  {
   "cell_type": "markdown",
   "metadata": {},
   "source": [
    "<hr>\n",
    "\n",
    "# BLE\n",
    "## ArtemisBLEController\n",
    "The class **ArtemisBLEController** (defined in *ble.py*) provides member functions to handle various BLE operations to send and receive data to/from the Artemis board, provided the accompanying Arduino sketch is running on the Artemis board. <br>\n",
    "\n",
    "<table align=\"left\">\n",
    "     <tr>\n",
    "        <th style=\"text-align: left; font-size: medium\">Member Functions</th>\n",
    "        <th style=\"text-align: left; font-size: medium\">Description</th style=\"text-align: left\">\n",
    "    </tr>\n",
    "    <tr>\n",
    "        <th style=\"text-align: left\"><span style=\"color:rgb(201,152,4);font-family:monospace\">reload_config()</span></th>\n",
    "        <th style=\"text-align: left\"><span style=\"font-weight: normal\">Reload changes made in <em>connection.yaml.</em></span></th style=\"text-align: left\">\n",
    "    </tr>\n",
    "    <tr>\n",
    "        <th style=\"text-align: left\"><span style=\"color:rgb(201,152,4);font-family:monospace\">connect()</span></th>\n",
    "        <th style=\"text-align: left\"><span style=\"font-weight: normal\">Connect to the Artemis board, whose MAC address is specified in <em>connection.yaml</em>.</span></th>\n",
    "    </tr>\n",
    "    <tr>\n",
    "        <th style=\"text-align: left\"><span style=\"color:rgb(201,152,4);font-family:monospace\">disconnect()</span></th>\n",
    "        <th style=\"text-align: left\"><span style=\"font-weight: normal\">Disconnect from the Artemis board.</span></th>\n",
    "    </tr>\n",
    "    <tr>\n",
    "        <th style=\"text-align: left\"><span style=\"color:rgb(201,152,4);font-family:monospace\">is_connected()</span></th>\n",
    "        <th style=\"text-align: left\"><span style=\"font-weight: normal\">Return a boolean indicating whether your controller is connected to the Artemis board or not.</span></th>\n",
    "    </tr>\n",
    "    <tr>\n",
    "        <th style=\"text-align: left\"><span style=\"color:rgb(201,152,4);font-family:monospace\">send_command(cmd_type, data)</span></th>\n",
    "        <th style=\"text-align: left\"><span style=\"font-weight: normal\">Send the command <strong>cmd_type</strong> (integer) with <strong>data</strong> (string) to the Artemis board.</span></th>\n",
    "    </tr>\n",
    "    <tr>\n",
    "        <th style=\"text-align: left\"><span style=\"color:rgb(201,152,4);font-family:monospace\">receive_float(uuid) <br> receive_string(uuid) <br> receive_int(uuid)</span></th>\n",
    "        <th style=\"text-align: left\"><span style=\"font-weight: normal\">Read the GATT characteristic (specified by its <strong>uuid</strong>) of type float, string or int. <br> The type of the GATT\n",
    "            characteristic is determined by the classes BLEFloatCharacteristic, BLECStringCharacteristic or\n",
    "            BLEIntCharacteristic in the Arduino sketch.</span></th>\n",
    "    </tr>\n",
    "    <tr>\n",
    "        <th style=\"text-align: left\"><span style=\"color:rgb(201,152,4);font-family:monospace\">start_notify(uuid, notification_handler)</span></th>\n",
    "        <th style=\"text-align: left\"><span style=\"font-weight: normal\">Activate notifications on the GATT characteristic (specified by its <strong>uuid</strong>). <br> <strong>notification_handler</strong> is a\n",
    "            function callback which must accept two inputs; the first will be a uuid string object and the second will\n",
    "            be the bytearray of the characteristic value.</span></th>\n",
    "    </tr>\n",
    "    <tr>\n",
    "        <th style=\"text-align: left\"><span style=\"color:rgb(201,152,4);font-family:monospace\">bytearray_to_float(byte_array) <br> bytearray_to_string(byte_array) <br> bytearray_to_int(byte_array)</span></th>\n",
    "        <th style=\"text-align: left\"><span style=\"font-weight: normal\">Convert the <strong>bytearray</strong> to float, string or int, respectively. <br> You may use these functions inside your\n",
    "            notification callback function.</span></th>\n",
    "    </tr>\n",
    "    <tr>\n",
    "        <th style=\"text-align: left\"><span style=\"color:rgb(201,152,4);font-family:monospace\">stop_notify(uuid)</span></th>\n",
    "        <th style=\"text-align: left\"><span style=\"font-weight: normal\">Stop notifications on the GATT characteristic (specified by its <strong>uuid</strong>).</span></th>\n",
    "    </tr>\n",
    "</table>\n",
    "\n",
    "<table align=\"left\">\n",
    "     <tr>\n",
    "        <th style=\"text-align: left; font-size: medium\">Member Variables</th>\n",
    "        <th style=\"text-align: left; font-size: medium\">Description</th style=\"text-align: left\">\n",
    "    </tr>\n",
    "    <tr>\n",
    "        <th style=\"text-align: left\"><span style=\"color:rgb(201,152,4);font-family:monospace\">uuid</span></th>\n",
    "        <th style=\"text-align: left\"><span style=\"font-weight: normal\">A dictionary that stores the UUIDs of the various characteristics specified in <em>connection.yaml</em>.</span></th>\n",
    "    </tr>\n",
    "</table>"
   ]
  },
  {
   "cell_type": "markdown",
   "metadata": {},
   "source": [
    "## Configuration\n",
    "- The MAC address, Service UUID and GATT characteristic UUIDs are defined in the file: *connection.yaml*.\n",
    "- They should match the UUIDs used in the Arduino sketch.\n",
    "- The artemis board running the base code should display its MAC address in the serial monitor.\n",
    "- Update the **artemis_address** in *connection.yaml*, accordingly.\n",
    "- Make sure to call **ble.reload_config()** or **get_ble_controller()** (which internally calls **reload_config()**) after making any changes to your configuration file.\n",
    "\n",
    "<hr>"
   ]
  },
  {
   "cell_type": "markdown",
   "metadata": {},
   "source": [
    "In the below cell, we create an **ArtemisBLEController** object using **get_ble_controller()** (defined in *ble.py*), which creates and/or returns a single instance of **ArtemisBLEController**. <br>\n",
    "<span style=\"color:rgb(240,50,50)\"> __NOTE__: Do not use the class directly to instantiate an object. </span><br>"
   ]
  },
  {
   "cell_type": "code",
   "execution_count": 12,
   "metadata": {
    "tags": []
   },
   "outputs": [
    {
     "name": "stdout",
     "output_type": "stream",
     "text": [
      "2023-02-14 17:23:08,734 |\u001b[32m INFO     \u001b[0m|: Looking for Artemis Nano Peripheral Device: c0:07:1d:96:09:44\n",
      "2023-02-14 17:23:13,294 |\u001b[32m INFO     \u001b[0m|: Connected to c0:07:1d:96:09:44\n"
     ]
    }
   ],
   "source": [
    "# Get ArtemisBLEController object\n",
    "ble = get_ble_controller()\n",
    "\n",
    "# Connect to the Artemis Device\n",
    "ble.connect()"
   ]
  },
  {
   "cell_type": "markdown",
   "metadata": {},
   "source": [
    "## Receive data from the Artemis board"
   ]
  },
  {
   "cell_type": "markdown",
   "metadata": {},
   "source": [
    "The cell below shows examples of reading different types (as defined in the Arduino sketch) of GATT characteristics."
   ]
  },
  {
   "cell_type": "code",
   "execution_count": 13,
   "metadata": {
    "tags": []
   },
   "outputs": [
    {
     "name": "stdout",
     "output_type": "stream",
     "text": [
      "9.0\n"
     ]
    }
   ],
   "source": [
    "# Read a float GATT Charactersistic\n",
    "f = ble.receive_float(ble.uuid['RX_FLOAT'])\n",
    "print(f)"
   ]
  },
  {
   "cell_type": "code",
   "execution_count": 14,
   "metadata": {
    "tags": []
   },
   "outputs": [
    {
     "name": "stdout",
     "output_type": "stream",
     "text": [
      "[->9.0<-]\n"
     ]
    }
   ],
   "source": [
    "# Read a string GATT Charactersistic\n",
    "s = ble.receive_string(ble.uuid['RX_STRING'])\n",
    "print(s)"
   ]
  },
  {
   "cell_type": "markdown",
   "metadata": {},
   "source": [
    "## Send a command to the Artemis board\n",
    "Send the PING command and read the reply string from the string characteristic RX_STRING. <br>\n",
    "__NOTE__: The **send_command()** essentially sends a string data to the GATT characteristic (TX_CMD_STRING). The GATT characteristic in the Arduino sketch is of type BLECStringCharacteristic."
   ]
  },
  {
   "cell_type": "code",
   "execution_count": 15,
   "metadata": {
    "tags": []
   },
   "outputs": [],
   "source": [
    "ble.send_command(CMD.PING, \"\")"
   ]
  },
  {
   "cell_type": "code",
   "execution_count": 16,
   "metadata": {
    "tags": []
   },
   "outputs": [
    {
     "name": "stdout",
     "output_type": "stream",
     "text": [
      "PONG\n"
     ]
    }
   ],
   "source": [
    "s = ble.receive_string(ble.uuid['RX_STRING'])\n",
    "print(s)"
   ]
  },
  {
   "cell_type": "markdown",
   "metadata": {},
   "source": [
    "The cell below shows an example of the SEND_TWO_INTS command. <br> The two values in the **data** are separated by a delimiter \"|\". <br>\n",
    "Refer Lab 2 documentation for more information on the command protocol."
   ]
  },
  {
   "cell_type": "code",
   "execution_count": 17,
   "metadata": {
    "tags": []
   },
   "outputs": [],
   "source": [
    "ble.send_command(CMD.SEND_TWO_INTS, \"2|-6\")"
   ]
  },
  {
   "cell_type": "markdown",
   "metadata": {},
   "source": [
    "The Artemis board should print the two integers to the serial monitor in the ArduinoIDE. "
   ]
  },
  {
   "cell_type": "markdown",
   "metadata": {},
   "source": [
    "#### ECHO"
   ]
  },
  {
   "cell_type": "code",
   "execution_count": 18,
   "metadata": {
    "tags": []
   },
   "outputs": [
    {
     "name": "stdout",
     "output_type": "stream",
     "text": [
      "Artemis Says: Hello!\n"
     ]
    }
   ],
   "source": [
    "ble.send_command(CMD.ECHO, \"Hello!\")\n",
    "s = ble.receive_string(ble.uuid['RX_STRING'])\n",
    "print(s)"
   ]
  },
  {
   "cell_type": "markdown",
   "metadata": {},
   "source": [
    "#### GET_TIME_MILLIS"
   ]
  },
  {
   "cell_type": "code",
   "execution_count": 19,
   "metadata": {
    "tags": []
   },
   "outputs": [
    {
     "name": "stdout",
     "output_type": "stream",
     "text": [
      "T:33402\n"
     ]
    }
   ],
   "source": [
    "ble.send_command(CMD.GET_TIME_MILLIS,\"\")\n",
    "s = ble.receive_string(ble.uuid['RX_STRING'])\n",
    "print(s)"
   ]
  },
  {
   "cell_type": "markdown",
   "metadata": {
    "tags": []
   },
   "source": [
    "#### Notification Handler"
   ]
  },
  {
   "cell_type": "code",
   "execution_count": 73,
   "metadata": {
    "tags": []
   },
   "outputs": [],
   "source": [
    "def get_millis_handler(uuid, byte_array):\n",
    "    time = ble.bytearray_to_string(byte_array)\n",
    "    time = time[2:]\n",
    "    print(time)\n",
    "    \n",
    "def get_temp_handler(uuid, byte_array):\n",
    "    temp = ble.bytearray_to_string(byte_array).split('|')\n",
    "    count = 1\n",
    "    for i in range(1,6) :\n",
    "        print (i, \": \", temp[i-1])       \n",
    "\n",
    "count = 1\n",
    "def get_temp_rapid_handler(uuid, byte_array):\n",
    "    global count\n",
    "    tempRapid = ble.bytearray_to_string(byte_array)\n",
    "    if tempRapid == \"END\" :\n",
    "        count = 1\n",
    "    else :         \n",
    "        print(count, \": \", tempRapid)\n",
    "        count+=1\n",
    "    \n",
    "        \n",
    "    \n",
    "ble.start_notify(ble.uuid['RX_STRING'], get_temp_rapid_handler)\n",
    "\n",
    "    "
   ]
  },
  {
   "cell_type": "code",
   "execution_count": 74,
   "metadata": {
    "tags": []
   },
   "outputs": [
    {
     "name": "stdout",
     "output_type": "stream",
     "text": [
      "1 :  T:168685 C:21.830\n",
      "2 :  T:168688 C:21.455\n",
      "3 :  T:168696 C:21.567\n",
      "4 :  T:168699 C:21.717\n",
      "5 :  T:168745 C:21.267\n",
      "6 :  T:168755 C:21.267\n",
      "7 :  T:168760 C:21.755\n",
      "8 :  T:168807 C:21.155\n",
      "9 :  T:168814 C:21.867\n",
      "10 :  T:168817 C:21.380\n",
      "11 :  T:168822 C:21.492\n",
      "12 :  T:168868 C:21.492\n",
      "13 :  T:168871 C:22.55\n",
      "14 :  T:168875 C:21.680\n",
      "15 :  T:168878 C:21.717\n",
      "16 :  T:168931 C:21.455\n",
      "17 :  T:168938 C:21.792\n",
      "18 :  T:168941 C:20.892\n",
      "19 :  T:168985 C:21.642\n",
      "20 :  T:168991 C:21.642\n",
      "21 :  T:168994 C:21.755\n",
      "22 :  T:169001 C:21.567\n",
      "23 :  T:169046 C:21.717\n",
      "24 :  T:169050 C:21.943\n",
      "25 :  T:169053 C:22.618\n",
      "26 :  T:169059 C:20.779\n",
      "27 :  T:169106 C:21.230\n",
      "28 :  T:169112 C:21.755\n",
      "29 :  T:169115 C:20.817\n",
      "30 :  T:169121 C:21.455\n",
      "31 :  T:169164 C:20.967\n",
      "32 :  T:169174 C:21.792\n",
      "33 :  T:169179 C:21.867\n",
      "34 :  T:169182 C:21.943\n",
      "35 :  T:169225 C:21.605\n",
      "36 :  T:169228 C:21.905\n",
      "37 :  T:169235 C:21.380\n",
      "38 :  T:169238 C:21.792\n",
      "39 :  T:169288 C:21.642\n",
      "40 :  T:169295 C:21.717\n",
      "41 :  T:169298 C:21.417\n",
      "42 :  T:169303 C:21.642\n",
      "43 :  T:169350 C:21.943\n",
      "44 :  T:169354 C:21.567\n",
      "45 :  T:169357 C:20.629\n",
      "46 :  T:169361 C:21.943\n",
      "47 :  T:169404 C:21.792\n",
      "48 :  T:169408 C:21.943\n",
      "49 :  T:169411 C:21.680\n",
      "50 :  T:169415 C:21.980\n",
      "51 :  T:169466 C:21.192\n",
      "52 :  T:169470 C:21.867\n",
      "53 :  T:169473 C:21.642\n",
      "54 :  T:169479 C:21.492\n",
      "55 :  T:169526 C:21.680\n",
      "56 :  T:169532 C:21.717\n",
      "57 :  T:169535 C:21.117\n",
      "58 :  T:169541 C:21.642\n",
      "59 :  T:169584 C:21.605\n",
      "60 :  T:169591 C:21.342\n",
      "61 :  T:169594 C:21.530\n",
      "62 :  T:169599 C:21.642\n",
      "63 :  T:169643 C:21.680\n",
      "64 :  T:169647 C:21.567\n",
      "65 :  T:169650 C:23.593\n",
      "66 :  T:169653 C:21.80\n",
      "67 :  T:169708 C:20.779\n",
      "68 :  T:169711 C:21.792\n",
      "69 :  T:169719 C:20.967\n",
      "70 :  T:169727 C:21.492\n",
      "71 :  T:169763 C:21.867\n",
      "72 :  T:169767 C:22.205\n",
      "73 :  T:169770 C:21.943\n",
      "74 :  T:169825 C:21.567\n",
      "75 :  T:169828 C:21.717\n",
      "76 :  T:169834 C:21.792\n",
      "77 :  T:169837 C:21.867\n",
      "78 :  T:169887 C:21.267\n",
      "79 :  T:169891 C:22.18\n",
      "80 :  T:169894 C:21.867\n",
      "81 :  T:169900 C:21.943\n",
      "82 :  T:169947 C:21.605\n",
      "83 :  T:169953 C:21.567\n",
      "84 :  T:169956 C:21.867\n",
      "85 :  T:169962 C:21.980\n",
      "86 :  T:170000 C:22.318\n",
      "87 :  T:170009 C:21.680\n",
      "88 :  T:170012 C:21.642\n",
      "89 :  T:170018 C:23.106\n",
      "90 :  T:170066 C:21.417\n",
      "91 :  T:170073 C:21.717\n",
      "92 :  T:170076 C:21.530\n",
      "93 :  T:170083 C:21.680\n",
      "94 :  T:170120 C:21.642\n",
      "95 :  T:170128 C:22.93\n",
      "96 :  T:170131 C:21.642\n",
      "97 :  T:170136 C:22.130\n",
      "98 :  T:170181 C:21.792\n",
      "99 :  T:170186 C:21.342\n",
      "100 :  T:170189 C:21.792\n",
      "101 :  T:170193 C:21.492\n",
      "102 :  T:170243 C:21.792\n",
      "103 :  T:170247 C:21.455\n",
      "104 :  T:170250 C:21.755\n",
      "105 :  T:170254 C:21.717\n",
      "106 :  T:170305 C:21.943\n",
      "107 :  T:170309 C:21.792\n",
      "108 :  T:170312 C:21.42\n",
      "109 :  T:170318 C:21.792\n",
      "110 :  T:170359 C:22.93\n",
      "111 :  T:170366 C:21.867\n",
      "112 :  T:170369 C:21.380\n",
      "113 :  T:170375 C:22.768\n",
      "114 :  T:170421 C:21.417\n",
      "115 :  T:170428 C:21.605\n",
      "116 :  T:170431 C:21.492\n",
      "117 :  T:170436 C:21.605\n",
      "118 :  T:170482 C:21.680\n",
      "119 :  T:170545 C:21.717\n",
      "120 :  T:170549 C:21.867\n",
      "121 :  T:170552 C:21.717\n",
      "122 :  T:170599 C:21.680\n",
      "123 :  T:170662 C:21.642\n",
      "124 :  T:170669 C:21.717\n",
      "125 :  T:170672 C:22.130\n",
      "126 :  T:170719 C:21.867\n",
      "127 :  T:170778 C:21.792\n",
      "128 :  T:170785 C:22.18\n",
      "129 :  T:170788 C:21.867\n",
      "130 :  T:170840 C:21.680\n",
      "131 :  T:170900 C:21.905\n",
      "132 :  T:170906 C:21.530\n",
      "133 :  T:170909 C:22.130\n",
      "134 :  T:170956 C:21.680\n",
      "135 :  T:171018 C:20.104\n",
      "136 :  T:171021 C:21.792\n",
      "137 :  T:171028 C:20.742\n",
      "138 :  T:171080 C:21.792\n",
      "139 :  T:171141 C:21.42\n",
      "140 :  T:171147 C:21.192\n",
      "141 :  T:171150 C:21.5\n",
      "142 :  T:171201 C:21.492\n",
      "143 :  T:171260 C:21.605\n",
      "144 :  T:171264 C:21.755\n",
      "145 :  T:171267 C:21.642\n",
      "146 :  T:171322 C:21.642\n",
      "147 :  T:171375 C:21.605\n",
      "148 :  T:171382 C:21.642\n",
      "149 :  T:171385 C:21.342\n",
      "150 :  T:171437 C:21.380\n",
      "151 :  T:171500 C:21.680\n",
      "152 :  T:171503 C:22.93\n",
      "153 :  T:171507 C:21.792\n",
      "154 :  T:171554 C:21.642\n",
      "155 :  T:171616 C:21.605\n",
      "156 :  T:171619 C:21.567\n",
      "157 :  T:171623 C:21.717\n",
      "158 :  T:171678 C:21.305\n",
      "159 :  T:171735 C:21.830\n",
      "160 :  T:171738 C:21.943\n",
      "161 :  T:171741 C:22.18\n",
      "162 :  T:171795 C:21.680\n",
      "163 :  T:171857 C:20.592\n",
      "164 :  T:171860 C:21.305\n",
      "165 :  T:171864 C:21.267\n",
      "166 :  T:171920 C:21.230\n",
      "167 :  T:171973 C:20.217\n",
      "168 :  T:171980 C:21.492\n",
      "169 :  T:171983 C:21.267\n",
      "170 :  T:172035 C:21.492\n",
      "171 :  T:172098 C:21.943\n",
      "172 :  T:172101 C:21.230\n",
      "173 :  T:172108 C:21.755\n",
      "174 :  T:172159 C:21.605\n",
      "175 :  T:172219 C:22.93\n",
      "176 :  T:172225 C:21.830\n",
      "177 :  T:172228 C:21.792\n",
      "178 :  T:172276 C:21.717\n",
      "179 :  T:172338 C:21.380\n",
      "180 :  T:172341 C:21.530\n",
      "181 :  T:172345 C:21.905\n",
      "182 :  T:172398 C:21.867\n",
      "183 :  T:172452 C:21.530\n",
      "184 :  T:172459 C:21.830\n",
      "185 :  T:172462 C:21.943\n",
      "186 :  T:172515 C:21.642\n",
      "187 :  T:172576 C:21.717\n",
      "188 :  T:172580 C:21.642\n",
      "189 :  T:172583 C:21.680\n",
      "190 :  T:172630 C:21.755\n",
      "191 :  T:172696 C:21.943\n",
      "192 :  T:172699 C:21.943\n",
      "193 :  T:172704 C:21.230\n",
      "194 :  T:172756 C:21.642\n",
      "195 :  T:172810 C:21.792\n",
      "196 :  T:172817 C:21.980\n",
      "197 :  T:172820 C:21.792\n",
      "198 :  T:172874 C:21.717\n",
      "199 :  T:172930 C:21.455\n",
      "200 :  T:172940 C:21.792\n",
      "201 :  T:172945 C:20.930\n",
      "202 :  T:172991 C:21.792\n",
      "203 :  T:173052 C:21.492\n",
      "204 :  T:173058 C:21.530\n",
      "205 :  T:173061 C:21.605\n",
      "206 :  T:173109 C:21.642\n",
      "207 :  T:173169 C:21.267\n",
      "208 :  T:173175 C:21.830\n",
      "209 :  T:173178 C:20.742\n",
      "210 :  T:173235 C:21.943\n",
      "211 :  T:173296 C:21.642\n",
      "212 :  T:173302 C:21.717\n",
      "213 :  T:173305 C:21.943\n",
      "214 :  T:173352 C:22.843\n",
      "215 :  T:173408 C:21.530\n",
      "216 :  T:173418 C:21.830\n",
      "217 :  T:173423 C:21.943\n",
      "218 :  T:173471 C:21.117\n",
      "219 :  T:173534 C:21.42\n",
      "220 :  T:173541 C:21.980\n",
      "221 :  T:173544 C:21.642\n",
      "222 :  T:173587 C:21.980\n",
      "223 :  T:173651 C:21.980\n",
      "224 :  T:173655 C:21.530\n",
      "225 :  T:173658 C:23.443\n"
     ]
    }
   ],
   "source": [
    "ble.send_command(CMD.GET_TEMP_5s_RAPID,\"\")"
   ]
  },
  {
   "cell_type": "code",
   "execution_count": 77,
   "metadata": {
    "tags": []
   },
   "outputs": [
    {
     "name": "stdout",
     "output_type": "stream",
     "text": [
      "1 :  T:223440\n"
     ]
    }
   ],
   "source": [
    "ble.send_command(CMD.GET_TIME_MILLIS,\"\")\n"
   ]
  },
  {
   "cell_type": "code",
   "execution_count": 78,
   "metadata": {
    "tags": []
   },
   "outputs": [
    {
     "name": "stdout",
     "output_type": "stream",
     "text": [
      "1 :  T:226249 C:21.455\n",
      "2 :  T:227252 C:21.680\n",
      "3 :  T:228254 C:21.567\n",
      "4 :  T:229256 C:21.680\n",
      "5 :  T:230259 C:22.168\n",
      "1 :  T:230263 C:21.980\n",
      "2 :  T:231268 C:21.267\n",
      "3 :  T:232270 C:21.980\n",
      "4 :  T:233272 C:21.530\n",
      "5 :  T:234274 C:21.605\n"
     ]
    }
   ],
   "source": [
    "ble.send_command(CMD.GET_TEMP_5s,\"\")"
   ]
  },
  {
   "cell_type": "code",
   "execution_count": 42,
   "metadata": {
    "tags": []
   },
   "outputs": [],
   "source": [
    "ble.stop_notify(ble.uuid['RX_STRING'])"
   ]
  },
  {
   "cell_type": "markdown",
   "metadata": {},
   "source": [
    "## Disconnect"
   ]
  },
  {
   "cell_type": "code",
   "execution_count": 59,
   "metadata": {
    "tags": []
   },
   "outputs": [
    {
     "ename": "Exception",
     "evalue": "Not connected to a BLE device",
     "output_type": "error",
     "traceback": [
      "\u001b[1;31m---------------------------------------------------------------------------\u001b[0m",
      "\u001b[1;31mException\u001b[0m                                 Traceback (most recent call last)",
      "Cell \u001b[1;32mIn[59], line 2\u001b[0m\n\u001b[0;32m      1\u001b[0m \u001b[38;5;66;03m# Disconnect\u001b[39;00m\n\u001b[1;32m----> 2\u001b[0m \u001b[43mble\u001b[49m\u001b[38;5;241;43m.\u001b[39;49m\u001b[43mdisconnect\u001b[49m\u001b[43m(\u001b[49m\u001b[43m)\u001b[49m\n",
      "File \u001b[1;32m~\\Desktop\\ECE4160LabCode\\ble_python\\ble.py:72\u001b[0m, in \u001b[0;36mBaseBLEController.disconnect\u001b[1;34m(self)\u001b[0m\n\u001b[0;32m     71\u001b[0m \u001b[38;5;28;01mdef\u001b[39;00m \u001b[38;5;21mdisconnect\u001b[39m(\u001b[38;5;28mself\u001b[39m):\n\u001b[1;32m---> 72\u001b[0m     \u001b[38;5;28;43mself\u001b[39;49m\u001b[38;5;241;43m.\u001b[39;49m\u001b[43m_wait\u001b[49m\u001b[43m(\u001b[49m\u001b[38;5;28;43mself\u001b[39;49m\u001b[38;5;241;43m.\u001b[39;49m\u001b[43mdevice\u001b[49m\u001b[38;5;241;43m.\u001b[39;49m\u001b[43m_disconnect\u001b[49m\u001b[43m(\u001b[49m\u001b[43m)\u001b[49m\u001b[43m)\u001b[49m\n",
      "File \u001b[1;32m~\\Desktop\\ECE4160LabCode\\ble_python\\base_ble.py:27\u001b[0m, in \u001b[0;36mwait_b\u001b[1;34m(coroutine)\u001b[0m\n\u001b[0;32m     26\u001b[0m \u001b[38;5;28;01mdef\u001b[39;00m \u001b[38;5;21mwait_b\u001b[39m(coroutine):\n\u001b[1;32m---> 27\u001b[0m     \u001b[38;5;28;01mreturn\u001b[39;00m \u001b[43masyncio\u001b[49m\u001b[38;5;241;43m.\u001b[39;49m\u001b[43mrun\u001b[49m\u001b[43m(\u001b[49m\u001b[43mcoroutine\u001b[49m\u001b[43m)\u001b[49m\n",
      "File \u001b[1;32m~\\Desktop\\ECE4160LabCode\\FastRobots_ble\\Lib\\site-packages\\nest_asyncio.py:35\u001b[0m, in \u001b[0;36m_patch_asyncio.<locals>.run\u001b[1;34m(main, debug)\u001b[0m\n\u001b[0;32m     33\u001b[0m task \u001b[38;5;241m=\u001b[39m asyncio\u001b[38;5;241m.\u001b[39mensure_future(main)\n\u001b[0;32m     34\u001b[0m \u001b[38;5;28;01mtry\u001b[39;00m:\n\u001b[1;32m---> 35\u001b[0m     \u001b[38;5;28;01mreturn\u001b[39;00m \u001b[43mloop\u001b[49m\u001b[38;5;241;43m.\u001b[39;49m\u001b[43mrun_until_complete\u001b[49m\u001b[43m(\u001b[49m\u001b[43mtask\u001b[49m\u001b[43m)\u001b[49m\n\u001b[0;32m     36\u001b[0m \u001b[38;5;28;01mfinally\u001b[39;00m:\n\u001b[0;32m     37\u001b[0m     \u001b[38;5;28;01mif\u001b[39;00m \u001b[38;5;129;01mnot\u001b[39;00m task\u001b[38;5;241m.\u001b[39mdone():\n",
      "File \u001b[1;32m~\\Desktop\\ECE4160LabCode\\FastRobots_ble\\Lib\\site-packages\\nest_asyncio.py:90\u001b[0m, in \u001b[0;36m_patch_loop.<locals>.run_until_complete\u001b[1;34m(self, future)\u001b[0m\n\u001b[0;32m     87\u001b[0m \u001b[38;5;28;01mif\u001b[39;00m \u001b[38;5;129;01mnot\u001b[39;00m f\u001b[38;5;241m.\u001b[39mdone():\n\u001b[0;32m     88\u001b[0m     \u001b[38;5;28;01mraise\u001b[39;00m \u001b[38;5;167;01mRuntimeError\u001b[39;00m(\n\u001b[0;32m     89\u001b[0m         \u001b[38;5;124m'\u001b[39m\u001b[38;5;124mEvent loop stopped before Future completed.\u001b[39m\u001b[38;5;124m'\u001b[39m)\n\u001b[1;32m---> 90\u001b[0m \u001b[38;5;28;01mreturn\u001b[39;00m \u001b[43mf\u001b[49m\u001b[38;5;241;43m.\u001b[39;49m\u001b[43mresult\u001b[49m\u001b[43m(\u001b[49m\u001b[43m)\u001b[49m\n",
      "File \u001b[1;32m~\\AppData\\Local\\Programs\\Python\\Python311\\Lib\\asyncio\\futures.py:203\u001b[0m, in \u001b[0;36mFuture.result\u001b[1;34m(self)\u001b[0m\n\u001b[0;32m    201\u001b[0m \u001b[38;5;28mself\u001b[39m\u001b[38;5;241m.\u001b[39m__log_traceback \u001b[38;5;241m=\u001b[39m \u001b[38;5;28;01mFalse\u001b[39;00m\n\u001b[0;32m    202\u001b[0m \u001b[38;5;28;01mif\u001b[39;00m \u001b[38;5;28mself\u001b[39m\u001b[38;5;241m.\u001b[39m_exception \u001b[38;5;129;01mis\u001b[39;00m \u001b[38;5;129;01mnot\u001b[39;00m \u001b[38;5;28;01mNone\u001b[39;00m:\n\u001b[1;32m--> 203\u001b[0m     \u001b[38;5;28;01mraise\u001b[39;00m \u001b[38;5;28mself\u001b[39m\u001b[38;5;241m.\u001b[39m_exception\u001b[38;5;241m.\u001b[39mwith_traceback(\u001b[38;5;28mself\u001b[39m\u001b[38;5;241m.\u001b[39m_exception_tb)\n\u001b[0;32m    204\u001b[0m \u001b[38;5;28;01mreturn\u001b[39;00m \u001b[38;5;28mself\u001b[39m\u001b[38;5;241m.\u001b[39m_result\n",
      "File \u001b[1;32m~\\AppData\\Local\\Programs\\Python\\Python311\\Lib\\asyncio\\tasks.py:267\u001b[0m, in \u001b[0;36mTask.__step\u001b[1;34m(***failed resolving arguments***)\u001b[0m\n\u001b[0;32m    263\u001b[0m \u001b[38;5;28;01mtry\u001b[39;00m:\n\u001b[0;32m    264\u001b[0m     \u001b[38;5;28;01mif\u001b[39;00m exc \u001b[38;5;129;01mis\u001b[39;00m \u001b[38;5;28;01mNone\u001b[39;00m:\n\u001b[0;32m    265\u001b[0m         \u001b[38;5;66;03m# We use the `send` method directly, because coroutines\u001b[39;00m\n\u001b[0;32m    266\u001b[0m         \u001b[38;5;66;03m# don't have `__iter__` and `__next__` methods.\u001b[39;00m\n\u001b[1;32m--> 267\u001b[0m         result \u001b[38;5;241m=\u001b[39m coro\u001b[38;5;241m.\u001b[39msend(\u001b[38;5;28;01mNone\u001b[39;00m)\n\u001b[0;32m    268\u001b[0m     \u001b[38;5;28;01melse\u001b[39;00m:\n\u001b[0;32m    269\u001b[0m         result \u001b[38;5;241m=\u001b[39m coro\u001b[38;5;241m.\u001b[39mthrow(exc)\n",
      "File \u001b[1;32m~\\Desktop\\ECE4160LabCode\\ble_python\\base_ble.py:96\u001b[0m, in \u001b[0;36mBLEAsyncDevice._disconnect\u001b[1;34m(self)\u001b[0m\n\u001b[0;32m     94\u001b[0m     \u001b[38;5;28;01mawait\u001b[39;00m \u001b[38;5;28mself\u001b[39m\u001b[38;5;241m.\u001b[39mclient\u001b[38;5;241m.\u001b[39mdisconnect()\n\u001b[0;32m     95\u001b[0m \u001b[38;5;28;01melse\u001b[39;00m:\n\u001b[1;32m---> 96\u001b[0m     \u001b[38;5;28;01mraise\u001b[39;00m \u001b[38;5;167;01mException\u001b[39;00m(\u001b[38;5;124m\"\u001b[39m\u001b[38;5;124mNot connected to a BLE device\u001b[39m\u001b[38;5;124m\"\u001b[39m)\n",
      "\u001b[1;31mException\u001b[0m: Not connected to a BLE device"
     ]
    }
   ],
   "source": [
    "# Disconnect\n",
    "ble.disconnect()"
   ]
  },
  {
   "cell_type": "code",
   "execution_count": null,
   "metadata": {},
   "outputs": [],
   "source": []
  }
 ],
 "metadata": {
  "kernelspec": {
   "display_name": "Python 3 (ipykernel)",
   "language": "python",
   "name": "python3"
  },
  "language_info": {
   "codemirror_mode": {
    "name": "ipython",
    "version": 3
   },
   "file_extension": ".py",
   "mimetype": "text/x-python",
   "name": "python",
   "nbconvert_exporter": "python",
   "pygments_lexer": "ipython3",
   "version": "3.11.1"
  }
 },
 "nbformat": 4,
 "nbformat_minor": 4
}
