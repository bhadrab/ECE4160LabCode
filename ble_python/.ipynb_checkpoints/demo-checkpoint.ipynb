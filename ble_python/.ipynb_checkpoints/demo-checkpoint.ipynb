{
 "cells": [
  {
   "cell_type": "markdown",
   "metadata": {},
   "source": [
    "## Import necessary modules\n",
    "Run this cell before running any other cells"
   ]
  },
  {
   "cell_type": "code",
   "execution_count": null,
   "metadata": {
    "tags": []
   },
   "outputs": [],
   "source": [
    "%load_ext autoreload\n",
    "%autoreload 2\n",
    "\n",
    "from ble import get_ble_controller\n",
    "from base_ble import LOG\n",
    "from cmd_types import CMD\n",
    "import time\n",
    "import numpy as np\n",
    "\n",
    "\n",
    "LOG.propagate = False"
   ]
  },
  {
   "cell_type": "markdown",
   "metadata": {},
   "source": [
    "# Printing and Logging\n",
    "## Printing\n",
    "You can use the **print()** function in Python to print messages to the screen. <br>\n",
    "The message can be a string, or any other object, the object will be converted into a string before it is written to the screen. <br>\n",
    "\n",
    "## Logging\n",
    "You could use the logging module that is setup in *utils.py*. <br>\n",
    "It prints to both your screen (standard output) as well as to log files (*ble.log*) in the *logs* directory. <br>\n",
    "This is the recommended way to output messages, since the log files can help with debugging. <br>\n",
    "The logging module also provides different log levels as shown below, each formatted with a different color for increased visibility. <br>\n",
    "\n",
    "__**NOTE**__: You may notice that the DEBUG message is not printed to the screen but is printed in the log file. This is because the logging level for the screen is set to INFO and for the file is set to DEBUG. You can change the default log levels in *utils.py* (**STREAM_LOG_LEVEL** and **FILE_LOG_LEVEL**). \n",
    "\n",
    "## Formatting output\n",
    "To format your strings, you may use %-formatting, str.format() or f-strings. <br>\n",
    "The most \"pythonic\" way would be to use f-strings. [Here](https://realpython.com/python-f-strings/) is a good tutorial on f-strings. <br>"
   ]
  },
  {
   "cell_type": "code",
   "execution_count": null,
   "metadata": {
    "tags": []
   },
   "outputs": [],
   "source": [
    "LOG.debug(\"debug\")\n",
    "LOG.info(\"info\")\n",
    "LOG.warning(\"warning\")\n",
    "LOG.error(\"error\")\n",
    "LOG.critical(\"critical\")"
   ]
  },
  {
   "cell_type": "markdown",
   "metadata": {},
   "source": [
    "<hr>\n",
    "\n",
    "# BLE\n",
    "## ArtemisBLEController\n",
    "The class **ArtemisBLEController** (defined in *ble.py*) provides member functions to handle various BLE operations to send and receive data to/from the Artemis board, provided the accompanying Arduino sketch is running on the Artemis board. <br>\n",
    "\n",
    "<table align=\"left\">\n",
    "     <tr>\n",
    "        <th style=\"text-align: left; font-size: medium\">Member Functions</th>\n",
    "        <th style=\"text-align: left; font-size: medium\">Description</th style=\"text-align: left\">\n",
    "    </tr>\n",
    "    <tr>\n",
    "        <th style=\"text-align: left\"><span style=\"color:rgb(201,152,4);font-family:monospace\">reload_config()</span></th>\n",
    "        <th style=\"text-align: left\"><span style=\"font-weight: normal\">Reload changes made in <em>connection.yaml.</em></span></th style=\"text-align: left\">\n",
    "    </tr>\n",
    "    <tr>\n",
    "        <th style=\"text-align: left\"><span style=\"color:rgb(201,152,4);font-family:monospace\">connect()</span></th>\n",
    "        <th style=\"text-align: left\"><span style=\"font-weight: normal\">Connect to the Artemis board, whose MAC address is specified in <em>connection.yaml</em>.</span></th>\n",
    "    </tr>\n",
    "    <tr>\n",
    "        <th style=\"text-align: left\"><span style=\"color:rgb(201,152,4);font-family:monospace\">disconnect()</span></th>\n",
    "        <th style=\"text-align: left\"><span style=\"font-weight: normal\">Disconnect from the Artemis board.</span></th>\n",
    "    </tr>\n",
    "    <tr>\n",
    "        <th style=\"text-align: left\"><span style=\"color:rgb(201,152,4);font-family:monospace\">is_connected()</span></th>\n",
    "        <th style=\"text-align: left\"><span style=\"font-weight: normal\">Return a boolean indicating whether your controller is connected to the Artemis board or not.</span></th>\n",
    "    </tr>\n",
    "    <tr>\n",
    "        <th style=\"text-align: left\"><span style=\"color:rgb(201,152,4);font-family:monospace\">send_command(cmd_type, data)</span></th>\n",
    "        <th style=\"text-align: left\"><span style=\"font-weight: normal\">Send the command <strong>cmd_type</strong> (integer) with <strong>data</strong> (string) to the Artemis board.</span></th>\n",
    "    </tr>\n",
    "    <tr>\n",
    "        <th style=\"text-align: left\"><span style=\"color:rgb(201,152,4);font-family:monospace\">receive_float(uuid) <br> receive_string(uuid) <br> receive_int(uuid)</span></th>\n",
    "        <th style=\"text-align: left\"><span style=\"font-weight: normal\">Read the GATT characteristic (specified by its <strong>uuid</strong>) of type float, string or int. <br> The type of the GATT\n",
    "            characteristic is determined by the classes BLEFloatCharacteristic, BLECStringCharacteristic or\n",
    "            BLEIntCharacteristic in the Arduino sketch.</span></th>\n",
    "    </tr>\n",
    "    <tr>\n",
    "        <th style=\"text-align: left\"><span style=\"color:rgb(201,152,4);font-family:monospace\">start_notify(uuid, notification_handler)</span></th>\n",
    "        <th style=\"text-align: left\"><span style=\"font-weight: normal\">Activate notifications on the GATT characteristic (specified by its <strong>uuid</strong>). <br> <strong>notification_handler</strong> is a\n",
    "            function callback which must accept two inputs; the first will be a uuid string object and the second will\n",
    "            be the bytearray of the characteristic value.</span></th>\n",
    "    </tr>\n",
    "    <tr>\n",
    "        <th style=\"text-align: left\"><span style=\"color:rgb(201,152,4);font-family:monospace\">bytearray_to_float(byte_array) <br> bytearray_to_string(byte_array) <br> bytearray_to_int(byte_array)</span></th>\n",
    "        <th style=\"text-align: left\"><span style=\"font-weight: normal\">Convert the <strong>bytearray</strong> to float, string or int, respectively. <br> You may use these functions inside your\n",
    "            notification callback function.</span></th>\n",
    "    </tr>\n",
    "    <tr>\n",
    "        <th style=\"text-align: left\"><span style=\"color:rgb(201,152,4);font-family:monospace\">stop_notify(uuid)</span></th>\n",
    "        <th style=\"text-align: left\"><span style=\"font-weight: normal\">Stop notifications on the GATT characteristic (specified by its <strong>uuid</strong>).</span></th>\n",
    "    </tr>\n",
    "</table>\n",
    "\n",
    "<table align=\"left\">\n",
    "     <tr>\n",
    "        <th style=\"text-align: left; font-size: medium\">Member Variables</th>\n",
    "        <th style=\"text-align: left; font-size: medium\">Description</th style=\"text-align: left\">\n",
    "    </tr>\n",
    "    <tr>\n",
    "        <th style=\"text-align: left\"><span style=\"color:rgb(201,152,4);font-family:monospace\">uuid</span></th>\n",
    "        <th style=\"text-align: left\"><span style=\"font-weight: normal\">A dictionary that stores the UUIDs of the various characteristics specified in <em>connection.yaml</em>.</span></th>\n",
    "    </tr>\n",
    "</table>"
   ]
  },
  {
   "cell_type": "markdown",
   "metadata": {},
   "source": [
    "## Configuration\n",
    "- The MAC address, Service UUID and GATT characteristic UUIDs are defined in the file: *connection.yaml*.\n",
    "- They should match the UUIDs used in the Arduino sketch.\n",
    "- The artemis board running the base code should display its MAC address in the serial monitor.\n",
    "- Update the **artemis_address** in *connection.yaml*, accordingly.\n",
    "- Make sure to call **ble.reload_config()** or **get_ble_controller()** (which internally calls **reload_config()**) after making any changes to your configuration file.\n",
    "\n",
    "<hr>"
   ]
  },
  {
   "cell_type": "markdown",
   "metadata": {},
   "source": [
    "In the below cell, we create an **ArtemisBLEController** object using **get_ble_controller()** (defined in *ble.py*), which creates and/or returns a single instance of **ArtemisBLEController**. <br>\n",
    "<span style=\"color:rgb(240,50,50)\"> __NOTE__: Do not use the class directly to instantiate an object. </span><br>"
   ]
  },
  {
   "cell_type": "code",
   "execution_count": null,
   "metadata": {
    "tags": []
   },
   "outputs": [],
   "source": [
    "# Get ArtemisBLEController object\n",
    "ble = get_ble_controller()\n",
    "\n",
    "# Connect to the Artemis Device\n",
    "ble.connect()"
   ]
  },
  {
   "cell_type": "markdown",
   "metadata": {},
   "source": [
    "## Receive data from the Artemis board"
   ]
  },
  {
   "cell_type": "markdown",
   "metadata": {},
   "source": [
    "The cell below shows examples of reading different types (as defined in the Arduino sketch) of GATT characteristics."
   ]
  },
  {
   "cell_type": "code",
   "execution_count": null,
   "metadata": {
    "tags": []
   },
   "outputs": [],
   "source": [
    "# Read a float GATT Charactersistic\n",
    "f = ble.receive_float(ble.uuid['RX_FLOAT'])\n",
    "print(f)"
   ]
  },
  {
   "cell_type": "code",
   "execution_count": null,
   "metadata": {
    "tags": []
   },
   "outputs": [],
   "source": [
    "# Read a string GATT Charactersistic\n",
    "s = ble.receive_string(ble.uuid['RX_STRING'])\n",
    "print(s)"
   ]
  },
  {
   "cell_type": "markdown",
   "metadata": {},
   "source": [
    "## Send a command to the Artemis board\n",
    "Send the PING command and read the reply string from the string characteristic RX_STRING. <br>\n",
    "__NOTE__: The **send_command()** essentially sends a string data to the GATT characteristic (TX_CMD_STRING). The GATT characteristic in the Arduino sketch is of type BLECStringCharacteristic."
   ]
  },
  {
   "cell_type": "code",
   "execution_count": null,
   "metadata": {
    "tags": []
   },
   "outputs": [],
   "source": [
    "ble.send_command(CMD.PING, \"\")"
   ]
  },
  {
   "cell_type": "code",
   "execution_count": null,
   "metadata": {
    "tags": []
   },
   "outputs": [],
   "source": [
    "s = ble.receive_string(ble.uuid['RX_STRING'])\n",
    "print(s)"
   ]
  },
  {
   "cell_type": "markdown",
   "metadata": {},
   "source": [
    "The cell below shows an example of the SEND_TWO_INTS command. <br> The two values in the **data** are separated by a delimiter \"|\". <br>\n",
    "Refer Lab 2 documentation for more information on the command protocol."
   ]
  },
  {
   "cell_type": "code",
   "execution_count": null,
   "metadata": {
    "tags": []
   },
   "outputs": [],
   "source": [
    "ble.send_command(CMD.SEND_TWO_INTS, \"2|-6\")"
   ]
  },
  {
   "cell_type": "markdown",
   "metadata": {},
   "source": [
    "The Artemis board should print the two integers to the serial monitor in the ArduinoIDE. "
   ]
  },
  {
   "cell_type": "markdown",
   "metadata": {},
   "source": [
    "#### ECHO"
   ]
  },
  {
   "cell_type": "code",
   "execution_count": null,
   "metadata": {
    "tags": []
   },
   "outputs": [],
   "source": [
    "ble.send_command(CMD.ECHO, \"Hello!\")\n",
    "s = ble.receive_string(ble.uuid['RX_STRING'])\n",
    "print(s)"
   ]
  },
  {
   "cell_type": "markdown",
   "metadata": {},
   "source": [
    "#### GET_TIME_MILLIS"
   ]
  },
  {
   "cell_type": "code",
   "execution_count": null,
   "metadata": {
    "tags": []
   },
   "outputs": [],
   "source": [
    "ble.send_command(CMD.GET_TIME_MILLIS,\"\")\n",
    "s = ble.receive_string(ble.uuid['RX_STRING'])\n",
    "print(s)"
   ]
  },
  {
   "cell_type": "markdown",
   "metadata": {
    "tags": []
   },
   "source": [
    "#### Notification Handler"
   ]
  },
  {
   "cell_type": "code",
   "execution_count": 43,
   "metadata": {
    "tags": []
   },
   "outputs": [],
   "source": [
    "def get_millis_handler(uuid, byte_array):\n",
    "    time = ble.bytearray_to_string(byte_array)\n",
    "    time = time[2:]\n",
    "    print(time)\n",
    "    \n",
    "def get_temp_handler(uuid, byte_array):\n",
    "    temp = ble.bytearray_to_string(byte_array).split('|')\n",
    "    count = 1\n",
    "    for i in range(1,6) :\n",
    "        print (i, \": \", temp[i-1])       \n",
    "\n",
    "count = 1\n",
    "def string_handler(uuid, byte_array):\n",
    "    global count\n",
    "    tempRapid = ble.bytearray_to_string(byte_array)\n",
    "    \n",
    "    if tempRapid == \"END\" :\n",
    "        count = 1\n",
    "\n",
    "    \n",
    "    else :         \n",
    "        print(count, \": \", tempRapid)\n",
    "        count+=1\n",
    "        \n",
    "d1 = []\n",
    "d2 = []\n",
    "times = []\n",
    "def tof_handler(uuid, byte_array):\n",
    "    global d1\n",
    "    global d2\n",
    "    global times\n",
    "    s = ble.bytearray_to_string(byte_array).split(\"|\")   \n",
    "    if len(s)==3 :\n",
    "        times.append(s[0].split(\":\")[1])\n",
    "        d1.append(s[1].split(\":\")[1])\n",
    "        d2.append(s[2].split(\":\")[1]) \n",
    "    \n",
    "    \n",
    "    \n",
    "ble.start_notify(ble.uuid['RX_STRING'], tof_handler)\n",
    "\n",
    "    "
   ]
  },
  {
   "cell_type": "code",
   "execution_count": 44,
   "metadata": {
    "tags": []
   },
   "outputs": [
    {
     "name": "stdout",
     "output_type": "stream",
     "text": [
      "['1580730']\n",
      "['25']\n",
      "['4']\n"
     ]
    }
   ],
   "source": [
    "ble.send_command(CMD.GET_TOF_5s,\"\")\n",
    "print(times)\n",
    "print(d1)\n",
    "print(d2)"
   ]
  },
  {
   "cell_type": "code",
   "execution_count": 47,
   "metadata": {
    "tags": []
   },
   "outputs": [
    {
     "name": "stdout",
     "output_type": "stream",
     "text": [
      "['1580730', '1580739', '1580752', '1580762', '1580798', '1580815', '1580823', '1580838', '1580851', '1580869', '1580883', '1580896', '1580912', '1580927', '1580935', '1580950', '1580978', '1580997', '1581010', '1581019', '1581033', '1581043', '1581057', '1581070', '1581097', '1581106', '1581120', '1581129', '1581154', '1581170', '1581179', '1581192', '1581212', '1581222', '1581235', '1581245', '1581274', '1581284', '1581297', '1581309', '1581332', '1581346', '1581354', '1581369', '1581392', '1581402', '1581415', '1581425', '1581454', '1581464', '1581473', '1581487', '1581507', '1581521', '1581530', '1581543', '1581573', '1581591', '1581604', '1581618', '1581632', '1581649', '1581664', '1581677', '1581693', '1581708', '1581716', '1581731', '1581749', '1581759', '1581768', '1581777', '1581812', '1581831', '1581844', '1581855', '1581868', '1581883', '1581891', '1581906', '1581989', '1582007', '1582015', '1582030', '1582048', '1582060', '1582073', '1582092', '1582110', '1582120', '1582129', '1582143', '1582168', '1582178', '1582191', '1582201', '1582230', '1582249', '1582257', '1582272', '1582289', '1582304', '1582312', '1582327', '1582345', '1582361', '1582369', '1582384', '1582409', '1582423', '1582432', '1582442', '1582465', '1582484', '1582497', '1582506', '1582528', '1582543', '1582551', '1582566', '1582584', '1582595', '1582608', '1582618', '1582648', '1582657', '1582665', '1582675', '1582709', '1582723', '1582736', '1582750', '1582764', '1582782', '1582791', '1582805', '1582825', '1582844', '1582852', '1582867', '1582888', '1582904', '1582913', '1582923', '1582946', '1582955', '1582963', '1582973', '1583007', '1583023', '1583031', '1583041', '1583061', '1583075', '1583084', '1583097', '1583127', '1583142', '1583155', '1583173', '1583192', '1583205', '1583223', '1583235', '1583248', '1583258', '1583271', '1583299', '1583318', '1583331', '1583345', '1583362', '1583377', '1583385', '1583400', '1583425', '1583435', '1583448', '1583458', '1583481', '1583500', '1583513', '1583522', '1583544', '1583554', '1583567', '1583577', '1583600', '1583619', '1583627', '1583639', '1583664', '1583678', '1583691', '1583709', '1583728', '1583741', '1583755', '1583764', '1583780', '1583794', '1583803', '1583816', '1583846', '1583858', '1583876', '1583891', '1583904', '1583913', '1583927', '1583936', '1583959', '1583977', '1583990', '1584004', '1584022', '1584034', '1584047', '1584062', '1584084', '1584096', '1584109', '1584123', '1584142', '1584152', '1584165', '1584175', '1584198', '1584208', '1584221', '1584231', '1584260', '1584270', '1584279', '1584293', '1584323', '1584333', '1584346', '1584356', '1584379', '1584387', '1584399', '1584412', '1584437', '1584447', '1584460', '1584470', '1584503', '1584513', '1584526', '1584536', '1584559', '1584578', '1584587', '1584600', '1584622', '1584632', '1584641', '1584655', '1584675', '1584690', '1584699', '1584712', '1584742', '1584750', '1584760', '1584769', '1584798', '1584816', '1584825', '1584843', '1584856', '1584870', '1584881', '1584894', '1584914', '1584929', '1584938', '1584951', '1584974', '1584993', '1585001', '1585016', '1585037', '1585056', '1585069', '1585078', '1585100', '1585117', '1585125', '1585140', '1585158', '1585168', '1585177', '1585191', '1585211', '1585224', '1585233', '1585242', '1585277', '1585296', '1585305', '1585322', '1585336', '1585354', '1585363', '1585376', '1585453', '1585472', '1585480', '1585494', '1585512', '1585522', '1585535', '1585545', '1585575', '1585585', '1585598', '1585608', '1585631', '1585650', '1585663', '1585672', '1585694', '1585709', '1585717']\n",
      "['25', '25', '25', '25', '25', '25', '25', '25', '25', '25', '25', '25', '27', '27', '27', '27', '27', '27', '25', '25', '25', '25', '25', '25', '25', '26', '26', '26', '26', '26', '26', '26', '27', '27', '27', '27', '27', '27', '26', '26', '26', '26', '26', '26', '28', '28', '28', '28', '28', '28', '28', '25', '25', '25', '25', '25', '25', '28', '28', '28', '28', '28', '28', '28', '27', '27', '27', '27', '27', '27', '27', '28', '28', '28', '28', '28', '28', '28', '28', '28', '27', '27', '27', '27', '27', '27', '26', '26', '26', '26', '26', '26', '27', '27', '27', '27', '27', '27', '25', '25', '25', '25', '25', '25', '25', '26', '26', '26', '26', '26', '26', '26', '27', '27', '27', '27', '27', '26', '26', '26', '26', '26', '26', '26', '26', '26', '26', '26', '26', '26', '27', '27', '27', '27', '27', '27', '27', '27', '27', '27', '27', '27', '27', '27', '25', '25', '25', '25', '25', '27', '27', '27', '27', '27', '27', '27', '25', '25', '25', '25', '25', '25', '27', '27', '27', '27', '27', '27', '27', '27', '27', '27', '27', '27', '27', '26', '26', '26', '26', '26', '26', '27', '27', '27', '27', '27', '27', '26', '26', '26', '26', '26', '26', '27', '27', '27', '27', '27', '27', '27', '27', '27', '27', '27', '27', '27', '27', '27', '27', '27', '27', '27', '27', '28', '28', '28', '28', '28', '28', '27', '27', '27', '27', '27', '27', '27', '27', '27', '27', '27', '27', '27', '28', '28', '28', '28', '28', '28', '28', '28', '28', '28', '28', '28', '28', '26', '26', '26', '26', '26', '26', '28', '28', '28', '28', '28', '28', '28', '29', '29', '29', '29', '29', '29', '27', '27', '27', '27', '27', '27', '28', '28', '28', '28', '28', '28', '28', '26', '26', '26', '26', '26', '26', '27', '27', '27', '27', '27', '27', '27', '25', '25', '25', '25', '25', '25', '25', '29', '29', '29', '29', '29', '27', '27', '27', '27', '27', '26', '26', '26', '26', '26', '26', '26', '26', '26', '26', '26', '26', '26', '26', '26', '26', '26', '25', '25']\n",
      "['4', '4', '4', '4', '4', '4', '4', '4', '4', '4', '4', '5', '5', '5', '5', '5', '4', '4', '4', '4', '4', '4', '4', '3', '3', '3', '3', '3', '3', '4', '4', '4', '4', '4', '4', '4', '4', '4', '4', '4', '4', '4', '3', '3', '3', '3', '3', '3', '4', '4', '4', '4', '4', '4', '3', '3', '3', '3', '3', '3', '6', '6', '6', '6', '6', '6', '6', '7', '7', '7', '7', '7', '6', '6', '6', '6', '6', '6', '6', '6', '6', '6', '6', '6', '6', '6', '6', '6', '6', '6', '6', '6', '6', '6', '8', '8', '8', '8', '8', '8', '7', '7', '7', '7', '7', '7', '7', '6', '6', '6', '6', '6', '6', '6', '6', '6', '6', '6', '6', '7', '7', '7', '7', '7', '7', '6', '6', '6', '6', '6', '6', '6', '6', '6', '6', '6', '6', '6', '6', '6', '6', '6', '6', '6', '6', '6', '6', '6', '6', '6', '6', '6', '6', '6', '6', '6', '6', '6', '6', '6', '6', '5', '5', '5', '5', '5', '5', '6', '6', '6', '6', '6', '6', '6', '7', '7', '7', '7', '7', '7', '7', '7', '7', '7', '7', '7', '7', '6', '6', '6', '6', '6', '5', '5', '5', '5', '5', '5', '5', '6', '6', '6', '6', '6', '6', '6', '6', '6', '6', '6', '6', '5', '5', '5', '5', '5', '5', '6', '6', '6', '6', '6', '6', '6', '6', '6', '6', '6', '6', '6', '6', '7', '7', '7', '7', '7', '7', '7', '7', '7', '7', '7', '7', '8', '8', '8', '8', '8', '7', '7', '7', '7', '7', '7', '7', '9', '9', '9', '9', '9', '9', '8', '8', '8', '8', '8', '8', '7', '7', '7', '7', '7', '7', '7', '7', '7', '7', '7', '7', '7', '7', '7', '7', '7', '7', '7', '6', '6', '6', '6', '6', '6', '8', '8', '8', '8', '8', '8', '8', '8', '8', '8', '8', '8', '7', '7', '7', '8', '8', '8', '8', '8', '8', '7', '7', '7', '7', '7', '7', '8', '8', '8', '8', '8', '8', '8']\n"
     ]
    }
   ],
   "source": [
    "print(times)\n",
    "print(d1)\n",
    "print(d2)"
   ]
  },
  {
   "cell_type": "code",
   "execution_count": 48,
   "metadata": {
    "tags": []
   },
   "outputs": [
    {
     "data": {
      "text/plain": [
       "<function matplotlib.pyplot.show(close=None, block=None)>"
      ]
     },
     "execution_count": 48,
     "metadata": {},
     "output_type": "execute_result"
    },
    {
     "data": {
      "image/png": "[encoded data removed]",
      "text/plain": [
       "<Figure size 640x480 with 1 Axes>"
      ]
     },
     "metadata": {},
     "output_type": "display_data"
    }
   ],
   "source": [
    "import matplotlib.pyplot as plt\n",
    "plt.plot(times,d1,label = \"Distance 1\")\n",
    "plt.plot(times,d2,label = \"Distance 2\")\n",
    "plt.xlabel('Time (ms)')\n",
    "plt.ylabel('Distance (mm)')\n",
    "plt.show"
   ]
  },
  {
   "cell_type": "code",
   "execution_count": null,
   "metadata": {
    "tags": []
   },
   "outputs": [],
   "source": [
    "ble.send_command(CMD.GET_TEMP_5s,\"\")\n",
    "ble.send_command(CMD.GET_TEMP_5s,\"\")"
   ]
  },
  {
   "cell_type": "code",
   "execution_count": null,
   "metadata": {
    "tags": []
   },
   "outputs": [],
   "source": [
    "ble.send_command(CMD.GET_TEMP_5s_RAPID,\"\")"
   ]
  },
  {
   "cell_type": "code",
   "execution_count": 42,
   "metadata": {
    "tags": []
   },
   "outputs": [],
   "source": [
    "ble.stop_notify(ble.uuid['RX_STRING'])"
   ]
  },
  {
   "cell_type": "markdown",
   "metadata": {},
   "source": [
    "## Disconnect"
   ]
  },
  {
   "cell_type": "code",
   "execution_count": null,
   "metadata": {
    "tags": []
   },
   "outputs": [],
   "source": [
    "# Disconnect\n",
    "ble.disconnect()"
   ]
  },
  {
   "cell_type": "code",
   "execution_count": null,
   "metadata": {},
   "outputs": [],
   "source": []
  },
  {
   "cell_type": "code",
   "execution_count": null,
   "metadata": {},
   "outputs": [
    {
     "data": {
      "text/plain": [
       "<function matplotlib.pyplot.show(close=None, block=None)>"
      ]
     },
     "execution_count": 49,
     "metadata": {},
     "output_type": "execute_result"
    },
    {
     "data": {
      "image/png": "[encoded data removed]",
      "text/plain": [
       "<Figure size 640x480 with 1 Axes>"
      ]
     },
     "metadata": {},
     "output_type": "display_data"
    }
   ],
   "source": [
    "times= [0,10,20,30,40,50,60,70,80,90,100,110,120,130,140]\n",
    "trial1 = [0.4,10.6,19.9,29.7,39.8,50.1,60.2,69.9,80,89.9,96,109,115,127,80]\n",
    "trial2 = [0.6,10.4,20.2,29.9,40.4,50.2,60.3,69.8,79.9,90.2,96.1,105,113,125,87]\n",
    "trial3 = [0.5,10.7,20.1,30.1,40.1,49.9,60.1,70,79.8,89.8,96.5,106,118,124,72]\n",
    "\n",
    "plt.plot(times,trial1,label = \"Trial 1\")\n",
    "plt.plot(times,trial2,label = \"Trial 2\")\n",
    "plt.plot(times,trial3,label = \"Trial 3\")\n",
    "plt.xlabel('Actual (mm)')\n",
    "plt.ylabel('Measured (mm)')\n",
    "plt.show"
   ]
  }
 ],
 "metadata": {
  "kernelspec": {
   "display_name": "Python 3 (ipykernel)",
   "language": "python",
   "name": "python3"
  },
  "language_info": {
   "codemirror_mode": {
    "name": "ipython",
    "version": 3
   },
   "file_extension": ".py",
   "mimetype": "text/x-python",
   "name": "python",
   "nbconvert_exporter": "python",
   "pygments_lexer": "ipython3",
   "version": "3.11.1"
  }
 },
 "nbformat": 4,
 "nbformat_minor": 4
}
