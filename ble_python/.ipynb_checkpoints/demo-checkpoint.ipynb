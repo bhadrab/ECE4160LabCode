{
 "cells": [
  {
   "cell_type": "markdown",
   "metadata": {},
   "source": [
    "## Import necessary modules\n",
    "Run this cell before running any other cells"
   ]
  },
  {
   "cell_type": "code",
   "execution_count": 244,
   "metadata": {
    "tags": []
   },
   "outputs": [
    {
     "name": "stdout",
     "output_type": "stream",
     "text": [
      "The autoreload extension is already loaded. To reload it, use:\n",
      "  %reload_ext autoreload\n"
     ]
    }
   ],
   "source": [
    "%load_ext autoreload\n",
    "%autoreload 2\n",
    "\n",
    "from ble import get_ble_controller\n",
    "from base_ble import LOG\n",
    "from cmd_types import CMD\n",
    "import time\n",
    "import numpy as np\n",
    "\n",
    "\n",
    "LOG.propagate = False"
   ]
  },
  {
   "cell_type": "markdown",
   "metadata": {},
   "source": [
    "# Printing and Logging\n",
    "## Printing\n",
    "You can use the **print()** function in Python to print messages to the screen. <br>\n",
    "The message can be a string, or any other object, the object will be converted into a string before it is written to the screen. <br>\n",
    "\n",
    "## Logging\n",
    "You could use the logging module that is setup in *utils.py*. <br>\n",
    "It prints to both your screen (standard output) as well as to log files (*ble.log*) in the *logs* directory. <br>\n",
    "This is the recommended way to output messages, since the log files can help with debugging. <br>\n",
    "The logging module also provides different log levels as shown below, each formatted with a different color for increased visibility. <br>\n",
    "\n",
    "__**NOTE**__: You may notice that the DEBUG message is not printed to the screen but is printed in the log file. This is because the logging level for the screen is set to INFO and for the file is set to DEBUG. You can change the default log levels in *utils.py* (**STREAM_LOG_LEVEL** and **FILE_LOG_LEVEL**). \n",
    "\n",
    "## Formatting output\n",
    "To format your strings, you may use %-formatting, str.format() or f-strings. <br>\n",
    "The most \"pythonic\" way would be to use f-strings. [Here](https://realpython.com/python-f-strings/) is a good tutorial on f-strings. <br>"
   ]
  },
  {
   "cell_type": "code",
   "execution_count": 245,
   "metadata": {
    "tags": []
   },
   "outputs": [
    {
     "name": "stdout",
     "output_type": "stream",
     "text": [
      "2023-05-03 14:48:34,168 |\u001b[32m INFO     \u001b[0m|: info\n",
      "2023-05-03 14:48:34,169 |\u001b[33m WARNING  \u001b[0m|: warning\n",
      "2023-05-03 14:48:34,171 |\u001b[31m ERROR    \u001b[0m|: error\n",
      "2023-05-03 14:48:34,173 |\u001b[31m\u001b[47m\u001b[1m CRITICAL \u001b[0m|: critical\n"
     ]
    }
   ],
   "source": [
    "LOG.debug(\"debug\")\n",
    "LOG.info(\"info\")\n",
    "LOG.warning(\"warning\")\n",
    "LOG.error(\"error\")\n",
    "LOG.critical(\"critical\")"
   ]
  },
  {
   "cell_type": "markdown",
   "metadata": {},
   "source": [
    "<hr>\n",
    "\n",
    "# BLE\n",
    "## ArtemisBLEController\n",
    "The class **ArtemisBLEController** (defined in *ble.py*) provides member functions to handle various BLE operations to send and receive data to/from the Artemis board, provided the accompanying Arduino sketch is running on the Artemis board. <br>\n",
    "\n",
    "<table align=\"left\">\n",
    "     <tr>\n",
    "        <th style=\"text-align: left; font-size: medium\">Member Functions</th>\n",
    "        <th style=\"text-align: left; font-size: medium\">Description</th style=\"text-align: left\">\n",
    "    </tr>\n",
    "    <tr>\n",
    "        <th style=\"text-align: left\"><span style=\"color:rgb(201,152,4);font-family:monospace\">reload_config()</span></th>\n",
    "        <th style=\"text-align: left\"><span style=\"font-weight: normal\">Reload changes made in <em>connection.yaml.</em></span></th style=\"text-align: left\">\n",
    "    </tr>\n",
    "    <tr>\n",
    "        <th style=\"text-align: left\"><span style=\"color:rgb(201,152,4);font-family:monospace\">connect()</span></th>\n",
    "        <th style=\"text-align: left\"><span style=\"font-weight: normal\">Connect to the Artemis board, whose MAC address is specified in <em>connection.yaml</em>.</span></th>\n",
    "    </tr>\n",
    "    <tr>\n",
    "        <th style=\"text-align: left\"><span style=\"color:rgb(201,152,4);font-family:monospace\">disconnect()</span></th>\n",
    "        <th style=\"text-align: left\"><span style=\"font-weight: normal\">Disconnect from the Artemis board.</span></th>\n",
    "    </tr>\n",
    "    <tr>\n",
    "        <th style=\"text-align: left\"><span style=\"color:rgb(201,152,4);font-family:monospace\">is_connected()</span></th>\n",
    "        <th style=\"text-align: left\"><span style=\"font-weight: normal\">Return a boolean indicating whether your controller is connected to the Artemis board or not.</span></th>\n",
    "    </tr>\n",
    "    <tr>\n",
    "        <th style=\"text-align: left\"><span style=\"color:rgb(201,152,4);font-family:monospace\">send_command(cmd_type, data)</span></th>\n",
    "        <th style=\"text-align: left\"><span style=\"font-weight: normal\">Send the command <strong>cmd_type</strong> (integer) with <strong>data</strong> (string) to the Artemis board.</span></th>\n",
    "    </tr>\n",
    "    <tr>\n",
    "        <th style=\"text-align: left\"><span style=\"color:rgb(201,152,4);font-family:monospace\">receive_float(uuid) <br> receive_string(uuid) <br> receive_int(uuid)</span></th>\n",
    "        <th style=\"text-align: left\"><span style=\"font-weight: normal\">Read the GATT characteristic (specified by its <strong>uuid</strong>) of type float, string or int. <br> The type of the GATT\n",
    "            characteristic is determined by the classes BLEFloatCharacteristic, BLECStringCharacteristic or\n",
    "            BLEIntCharacteristic in the Arduino sketch.</span></th>\n",
    "    </tr>\n",
    "    <tr>\n",
    "        <th style=\"text-align: left\"><span style=\"color:rgb(201,152,4);font-family:monospace\">start_notify(uuid, notification_handler)</span></th>\n",
    "        <th style=\"text-align: left\"><span style=\"font-weight: normal\">Activate notifications on the GATT characteristic (specified by its <strong>uuid</strong>). <br> <strong>notification_handler</strong> is a\n",
    "            function callback which must accept two inputs; the first will be a uuid string object and the second will\n",
    "            be the bytearray of the characteristic value.</span></th>\n",
    "    </tr>\n",
    "    <tr>\n",
    "        <th style=\"text-align: left\"><span style=\"color:rgb(201,152,4);font-family:monospace\">bytearray_to_float(byte_array) <br> bytearray_to_string(byte_array) <br> bytearray_to_int(byte_array)</span></th>\n",
    "        <th style=\"text-align: left\"><span style=\"font-weight: normal\">Convert the <strong>bytearray</strong> to float, string or int, respectively. <br> You may use these functions inside your\n",
    "            notification callback function.</span></th>\n",
    "    </tr>\n",
    "    <tr>\n",
    "        <th style=\"text-align: left\"><span style=\"color:rgb(201,152,4);font-family:monospace\">stop_notify(uuid)</span></th>\n",
    "        <th style=\"text-align: left\"><span style=\"font-weight: normal\">Stop notifications on the GATT characteristic (specified by its <strong>uuid</strong>).</span></th>\n",
    "    </tr>\n",
    "</table>\n",
    "\n",
    "<table align=\"left\">\n",
    "     <tr>\n",
    "        <th style=\"text-align: left; font-size: medium\">Member Variables</th>\n",
    "        <th style=\"text-align: left; font-size: medium\">Description</th style=\"text-align: left\">\n",
    "    </tr>\n",
    "    <tr>\n",
    "        <th style=\"text-align: left\"><span style=\"color:rgb(201,152,4);font-family:monospace\">uuid</span></th>\n",
    "        <th style=\"text-align: left\"><span style=\"font-weight: normal\">A dictionary that stores the UUIDs of the various characteristics specified in <em>connection.yaml</em>.</span></th>\n",
    "    </tr>\n",
    "</table>"
   ]
  },
  {
   "cell_type": "markdown",
   "metadata": {},
   "source": [
    "## Configuration\n",
    "- The MAC address, Service UUID and GATT characteristic UUIDs are defined in the file: *connection.yaml*.\n",
    "- They should match the UUIDs used in the Arduino sketch.\n",
    "- The artemis board running the base code should display its MAC address in the serial monitor.\n",
    "- Update the **artemis_address** in *connection.yaml*, accordingly.\n",
    "- Make sure to call **ble.reload_config()** or **get_ble_controller()** (which internally calls **reload_config()**) after making any changes to your configuration file.\n",
    "\n",
    "<hr>"
   ]
  },
  {
   "cell_type": "markdown",
   "metadata": {},
   "source": [
    "In the below cell, we create an **ArtemisBLEController** object using **get_ble_controller()** (defined in *ble.py*), which creates and/or returns a single instance of **ArtemisBLEController**. <br>\n",
    "<span style=\"color:rgb(240,50,50)\"> __NOTE__: Do not use the class directly to instantiate an object. </span><br>"
   ]
  },
  {
   "cell_type": "code",
   "execution_count": 246,
   "metadata": {
    "tags": []
   },
   "outputs": [
    {
     "name": "stdout",
     "output_type": "stream",
     "text": [
      "2023-05-03 14:48:35,461 |\u001b[32m INFO     \u001b[0m|: Looking for Artemis Nano Peripheral Device: c0:07:1d:96:09:44\n",
      "2023-05-03 14:48:43,143 |\u001b[32m INFO     \u001b[0m|: Connected to c0:07:1d:96:09:44\n"
     ]
    }
   ],
   "source": [
    "# Get ArtemisBLEController object\n",
    "ble = get_ble_controller()\n",
    "\n",
    "# Connect to the Artemis Device\n",
    "ble.connect()"
   ]
  },
  {
   "cell_type": "markdown",
   "metadata": {},
   "source": [
    "## Receive data from the Artemis board"
   ]
  },
  {
   "cell_type": "markdown",
   "metadata": {},
   "source": [
    "The cell below shows examples of reading different types (as defined in the Arduino sketch) of GATT characteristics."
   ]
  },
  {
   "cell_type": "code",
   "execution_count": 247,
   "metadata": {
    "tags": []
   },
   "outputs": [
    {
     "name": "stdout",
     "output_type": "stream",
     "text": [
      "4.0\n"
     ]
    }
   ],
   "source": [
    "# Read a float GATT Charactersistic\n",
    "f = ble.receive_float(ble.uuid['RX_FLOAT'])\n",
    "print(f)"
   ]
  },
  {
   "cell_type": "code",
   "execution_count": 248,
   "metadata": {
    "tags": []
   },
   "outputs": [
    {
     "name": "stdout",
     "output_type": "stream",
     "text": [
      "[->9.0<-]\n"
     ]
    }
   ],
   "source": [
    "# Read a string GATT Charactersistic\n",
    "s = ble.receive_string(ble.uuid['RX_STRING'])\n",
    "print(s)"
   ]
  },
  {
   "cell_type": "markdown",
   "metadata": {},
   "source": [
    "## Send a command to the Artemis board\n",
    "Send the PING command and read the reply string from the string characteristic RX_STRING. <br>\n",
    "__NOTE__: The **send_command()** essentially sends a string data to the GATT characteristic (TX_CMD_STRING). The GATT characteristic in the Arduino sketch is of type BLECStringCharacteristic."
   ]
  },
  {
   "cell_type": "code",
   "execution_count": null,
   "metadata": {
    "tags": []
   },
   "outputs": [],
   "source": [
    "ble.send_command(CMD.PING, \"\")"
   ]
  },
  {
   "cell_type": "code",
   "execution_count": null,
   "metadata": {
    "tags": []
   },
   "outputs": [],
   "source": [
    "s = ble.receive_string(ble.uuid['RX_STRING2'])\n",
    "print(s)"
   ]
  },
  {
   "cell_type": "markdown",
   "metadata": {},
   "source": [
    "The cell below shows an example of the SEND_TWO_INTS command. <br> The two values in the **data** are separated by a delimiter \"|\". <br>\n",
    "Refer Lab 2 documentation for more information on the command protocol."
   ]
  },
  {
   "cell_type": "code",
   "execution_count": null,
   "metadata": {
    "tags": []
   },
   "outputs": [],
   "source": [
    "ble.send_command(CMD.SEND_TWO_INTS, \"0.|-6\")"
   ]
  },
  {
   "cell_type": "code",
   "execution_count": null,
   "metadata": {
    "tags": []
   },
   "outputs": [],
   "source": [
    "ble.send_command(CMD.START, \"\")"
   ]
  },
  {
   "cell_type": "code",
   "execution_count": null,
   "metadata": {
    "tags": []
   },
   "outputs": [],
   "source": [
    "ble.send_command(CMD.STOP, \"\")\n"
   ]
  },
  {
   "cell_type": "markdown",
   "metadata": {
    "tags": []
   },
   "source": [
    "#### Notification Handler"
   ]
  },
  {
   "cell_type": "code",
   "execution_count": null,
   "metadata": {
    "tags": []
   },
   "outputs": [],
   "source": [
    "      \n",
    "d1 = []\n",
    "TOFtimes = []\n",
    "def tof_handler(uuid, byte_array):\n",
    "    global d1\n",
    "    global TOFtimes\n",
    "    s = ble.bytearray_to_string(byte_array).split(\"|\")   \n",
    "    TOFtimes.append(int(s[0].split(\":\")[1]))\n",
    "    d1.append(float(s[1].split(\":\")[1]))\n",
    "\n",
    "pitch = []\n",
    "roll = []\n",
    "IMUtimes = []\n",
    "def imu_handler(uuid, byte_array):\n",
    "    global pitch\n",
    "    global roll\n",
    "    global IMUtimes\n",
    "    s = ble.bytearray_to_string(byte_array).split(\"|\")  \n",
    "    IMUtimes.append(int(s[0].split(\":\")[1]))\n",
    "    pitch.append(float(s[1].split(\":\")[1]))\n",
    "    roll.append(float(s[2].split(\":\")[1])) \n",
    "    \n",
    "    \n",
    "\n",
    "\n",
    "    "
   ]
  },
  {
   "cell_type": "code",
   "execution_count": null,
   "metadata": {
    "tags": []
   },
   "outputs": [],
   "source": [
    "ble.start_notify(ble.uuid['RX_STRING'], imu_handler)"
   ]
  },
  {
   "cell_type": "code",
   "execution_count": null,
   "metadata": {
    "tags": []
   },
   "outputs": [],
   "source": [
    "ble.start_notify(ble.uuid['RX_STRING2'], tof_handler)"
   ]
  },
  {
   "cell_type": "code",
   "execution_count": null,
   "metadata": {
    "scrolled": true,
    "tags": []
   },
   "outputs": [],
   "source": [
    "ble.send_command(CMD.GET_TOF_5s,\"\")"
   ]
  },
  {
   "cell_type": "code",
   "execution_count": null,
   "metadata": {
    "tags": []
   },
   "outputs": [],
   "source": [
    "print(TOFtimes)\n",
    "print(d1)"
   ]
  },
  {
   "cell_type": "code",
   "execution_count": 249,
   "metadata": {
    "tags": []
   },
   "outputs": [
    {
     "name": "stdout",
     "output_type": "stream",
     "text": [
      "2023-05-03 14:49:23,509 |\u001b[32m INFO     \u001b[0m|: Disconnected from c0:07:1d:96:09:44\n"
     ]
    }
   ],
   "source": [
    "tof = []\n",
    "mot = []\n",
    "times = []\n",
    "\n",
    "def pid_handler(uuid,byte_array):\n",
    "    global tof\n",
    "    global times\n",
    "    global mot\n",
    "    s = ble.bytearray_to_string(byte_array).split(\"|\") \n",
    "    times.append(s[0].split(\":\")[1])\n",
    "    tof.append(s[1].split(\":\")[1])\n",
    "    mot.append(s[2].split(\":\")[1])    \n",
    "\n",
    "ble.start_notify(ble.uuid['RX_STRING'], pid_handler)\n",
    "ble.send_command(CMD.START_PID, \"\")\n"
   ]
  },
  {
   "cell_type": "code",
   "execution_count": null,
   "metadata": {
    "tags": []
   },
   "outputs": [],
   "source": [
    "ble.send_command(CMD.STOP, \"\")\n"
   ]
  },
  {
   "cell_type": "code",
   "execution_count": 252,
   "metadata": {
    "tags": []
   },
   "outputs": [
    {
     "name": "stdout",
     "output_type": "stream",
     "text": [
      "['39118', '39380', '39397', '39408', '39424', '39441', '39457', '39473', '39490', '39506', '39523', '39539', '39555', '39572', '39588', '39599', '39610', '39625', '39636', '39653', '39669', '39686', '39697', '39708', '39725', '39736', '39752', '39768', '39779', '39790', '39796', '39801', '39812', '39818', '39823', '39833', '39839', '39844', '39855', '39870', '39881', '39892', '39908', '39925', '39941', '39958', '39969', '39980', '39995', '40001', '40012', '40023', '40028', '40035', '40046', '40062', '40078', '40095', '40111', '40127', '40144', '40160', '40177', '40193', '40204', '40220', '40231', '40248', '40264', '40275', '40286', '40301', '40312', '40323', '40334', '40345', '40356', '40367', '40378', '40394', '40405', '40412', '40423', '40434', '40444', '40455', '40466', '40472', '40483', '40494', '40499', '40510', '40516', '40527', '40536', '40542', '40553', '40558', '40564', '40569', '40575', '40585', '40591', '40596', '40602', '40607', '40618', '40629', '40645', '40657', '40673', '40689', '40706', '40722', '40739', '40755', '40771', '40788', '40804', '40821', '40837', '40853', '40870', '40886', '40903', '40919', '40930', '40941', '40956', '40967', '40984', '40994', '41011', '41027', '41044', '41060', '41076', '41093', '41109', '41120', '41132', '41143', '41154', '41165', '41181', '41192', '41203', '41214', '41226', '41236', '41247', '41263', '41274', '41285', '41296', '41307', '41318', '41335', '41351', '41367', '41378', '41389', '41400', '41417', '41433', '41449', '41466', '41477', '41488', '41499', '41510', '41521', '41537', '41553', '41570', '41586', '41603', '41619', '41635', '41652', '41668', '41685', '41701', '41717', '41734', '41750', '41767', '41783', '41799', '41816', '41827', '41843', '41854', '41865', '41880', '41886', '41897', '41908', '41918', '41929', '41935', '41946', '41957', '41962', '41968', '41973', '41979', '41984', '41995', '42001', '42011', '42017', '42022', '42033', '42044', '42051', '42056', '42067', '42078', '42089', '42100', '42106', '42116', '42122', '42127', '42138', '42148', '42154', '42165', '42170', '42181', '42187', '42192', '42202', '42208', '42213', '42224', '42236', '42242', '42252', '42263', '42269', '42274', '42280', '42285', '42291', '42296', '42302', '42313', '42318', '42324', '42329', '42335', '42340', '42346', '42351', '42357', '42362', '42368', '42373', '42378', '42384', '42395', '42411', '42423', '42434', '42451', '42467', '42483', '42500', '42516', '42527', '42539', '42545', '42550', '42561', '42572', '42583', '42599', '42616', '42632', '42649', '42665', '42681', '42698', '42709', '42711', '42713', '42720', '42722', '42729', '42731', '42738', '42740', '42742', '42745', '42747', '42750', '42752', '42754', '42756', '42763', '42765', '42772', '42774', '42776', '42779', '42781', '42783', '42785', '42787', '42794', '42797', '42814', '42825', '42836', '42841', '42852', '42863', '42874', '42885', '42896', '42907', '42918', '42927', '42933', '42944', '42949', '42955', '42965', '42975', '42981', '42992', '42997', '43008', '43013', '43024', '43034', '43040', '43051', '43056', '43067', '43072', '43078', '43088', '43094', '43099', '43110', '43116', '43121', '43132', '43143', '43148', '43154', '43165', '43170', '43177', '43182', '43188', '43199', '43210']\n",
      "['0', '1037', '1037', '1037', '1037', '1036', '1036', '1036', '1036', '1036', '1036', '1034', '1034', '1034', '1034', '1034', '1034', '1034', '1026', '1026', '1026', '1026', '1026', '1026', '1019', '1019', '1019', '1019', '1019', '1019', '1019', '1019', '1019', '1013', '1013', '1013', '1013', '1013', '1013', '1013', '1013', '1013', '1013', '1007', '1007', '1007', '1007', '1007', '1007', '1007', '1003', '1003', '1003', '1003', '1003', '1003', '1003', '1003', '992', '992', '992', '992', '992', '992', '983', '983', '983', '983', '983', '983', '983', '967', '967', '967', '967', '967', '967', '967', '967', '950', '950', '950', '950', '950', '950', '950', '950', '950', '950', '931', '931', '931', '931', '931', '931', '931', '931', '931', '931', '931', '931', '915', '915', '915', '915', '915', '915', '915', '915', '915', '915', '897', '897', '897', '897', '897', '897', '881', '881', '881', '881', '881', '881', '860', '860', '860', '860', '860', '860', '840', '840', '840', '840', '840', '840', '840', '815', '815', '815', '815', '815', '815', '815', '786', '786', '786', '786', '786', '786', '786', '786', '765', '765', '765', '765', '765', '765', '765', '765', '743', '743', '743', '743', '743', '743', '714', '714', '714', '714', '714', '714', '714', '714', '686', '686', '686', '686', '686', '658', '658', '658', '658', '658', '658', '658', '628', '628', '628', '628', '628', '628', '598', '598', '598', '598', '598', '598', '598', '598', '563', '563', '563', '563', '563', '563', '563', '563', '563', '563', '563', '563', '563', '563', '532', '532', '532', '532', '532', '532', '532', '532', '532', '532', '508', '508', '508', '508', '508', '508', '508', '508', '508', '508', '508', '508', '508', '475', '475', '475', '475', '475', '475', '475', '475', '475', '475', '475', '475', '442', '442', '442', '442', '442', '442', '442', '442', '442', '442', '442', '442', '442', '442', '442', '409', '409', '409', '409', '409', '409', '409', '376', '376', '376', '376', '376', '376', '376', '376', '344', '344', '344', '344', '344', '344', '310', '310', '310', '310', '310', '310', '310', '310', '310', '310', '310', '310', '310', '310', '310', '310', '310', '310', '310', '310', '310', '310', '310', '310', '310', '310', '310', '278', '278', '278', '278', '278', '278', '278', '278', '278', '278', '253', '253', '253', '253', '253', '253', '253', '253', '253', '253', '249', '249', '249', '249', '249', '249', '249', '249', '249', '249', '249', '249', '254', '254', '254', '254', '254', '254', '254', '254', '254', '254', '254', '254', '254', '263', '263', '263', '263', '263']\n",
      "['-29', '-29', '-29', '-29', '-29', '-29', '-29', '-29', '-29', '-29', '-29', '-29', '-29', '-29', '-29', '-29', '-29', '-29', '-28', '-28', '-28', '-28', '-28', '-28', '-28', '-28', '-28', '-28', '-28', '-28', '-28', '-28', '-28', '-28', '-28', '-28', '-28', '-28', '-28', '-28', '-28', '-28', '-28', '-28', '-28', '-28', '-28', '-28', '-28', '-28', '-27', '-27', '-27', '-27', '-27', '-27', '-27', '-27', '-27', '-27', '-27', '-27', '-27', '-27', '-27', '-27', '-27', '-27', '-27', '-27', '-27', '-26', '-26', '-26', '-26', '-26', '-26', '-26', '-26', '-25', '-25', '-25', '-25', '-25', '-25', '-25', '-25', '-25', '-25', '-25', '-25', '-25', '-25', '-25', '-25', '-25', '-25', '-25', '-25', '-25', '-25', '-24', '-24', '-24', '-24', '-24', '-24', '-24', '-24', '-24', '-24', '-23', '-23', '-23', '-23', '-23', '-23', '-23', '-23', '-23', '-23', '-23', '-23', '-22', '-22', '-22', '-22', '-22', '-22', '-21', '-21', '-21', '-21', '-21', '-21', '-21', '-20', '-20', '-20', '-20', '-20', '-20', '-20', '-19', '-19', '-19', '-19', '-19', '-19', '-19', '-19', '-18', '-18', '-18', '-18', '-18', '-18', '-18', '-18', '-17', '-17', '-17', '-17', '-17', '-17', '-16', '-16', '-16', '-16', '-16', '-16', '-16', '-16', '-15', '-15', '-15', '-15', '-15', '-14', '-14', '-14', '-14', '-14', '-14', '-14', '-12', '-12', '-12', '-12', '-12', '-12', '-11', '-11', '-11', '-11', '-11', '-11', '-11', '-11', '-10', '-10', '-10', '-10', '-10', '-10', '-10', '-10', '-10', '-10', '-10', '-10', '-10', '-10', '-9', '-9', '-9', '-9', '-9', '-9', '-9', '-9', '-9', '-9', '-8', '-8', '-8', '-8', '-8', '-8', '-8', '-8', '-8', '-8', '-8', '-8', '-8', '-6', '-6', '-6', '-6', '-6', '-6', '-6', '-6', '-6', '-6', '-6', '-6', '-5', '-5', '-5', '-5', '-5', '-5', '-5', '-5', '-5', '-5', '-5', '-5', '-5', '-5', '-5', '-4', '-4', '-4', '-4', '-4', '-4', '-4', '-2', '-2', '-2', '-2', '-2', '-2', '-2', '-2', '-1', '-1', '-1', '-1', '-1', '-1', '0', '0', '0', '0', '0', '0', '0', '0', '0', '0', '0', '0', '0', '0', '0', '0', '0', '0', '0', '0', '0', '0', '0', '0', '0', '0', '0', '1', '1', '1', '1', '1', '1', '1', '1', '1', '1', '2', '2', '2', '2', '2', '2', '2', '2', '2', '2', '2', '2', '2', '2', '2', '2', '2', '2', '2', '2', '2', '2', '2', '2', '2', '2', '2', '2', '2', '2', '2', '2', '2', '2', '2', '1', '1', '1', '1', '1']\n",
      "361\n",
      "4092\n"
     ]
    }
   ],
   "source": [
    "print(times)\n",
    "print(tof)\n",
    "print(mot)\n",
    "print(len(times))\n",
    "print(int(times[len(times)-1]) - int(times[0]))"
   ]
  },
  {
   "cell_type": "code",
   "execution_count": null,
   "metadata": {
    "tags": []
   },
   "outputs": [],
   "source": [
    "import matplotlib.pyplot as plt\n",
    "\n",
    "plt.xlabel('Time (ms)')\n",
    "plt.ylabel('Amplitude')\n",
    "plt.yticks([min(d1),max(d1),min(d2),max(d2),min(pitch),max(pitch),min(roll),max(roll)])\n",
    "plt.plot(TOFtimes,d1,label=\"TOF1\")\n",
    "plt.plot(TOFtimes,d2,label=\"TOF2\")\n",
    "plt.plot(IMUtimes,pitch,label=\"Pitch\")\n",
    "plt.plot(IMUtimes,roll,label=\"Roll\")\n",
    "plt.legend()\n",
    "plt.title('TOF aand IMU Data')\n",
    "plt.show\n"
   ]
  },
  {
   "cell_type": "code",
   "execution_count": null,
   "metadata": {
    "tags": []
   },
   "outputs": [],
   "source": [
    "plt.xlabel('Time (ms)')\n",
    "plt.ylabel('Angle')\n",
    "plt.yticks([min(pitch),max(pitch),min(roll),max(roll)])\n",
    "plt.plot(IMUtimes,pitch,label=\"Pitch\")\n",
    "plt.plot(IMUtimes,roll,label=\"Roll\")\n",
    "plt.legend()\n",
    "plt.title('IMU Data')\n",
    "plt.show"
   ]
  },
  {
   "cell_type": "code",
   "execution_count": null,
   "metadata": {
    "tags": []
   },
   "outputs": [],
   "source": [
    "ble.stop_notify(ble.uuid['RX_STRING'])\n",
    "ble.stop_notify(ble.uuid['RX_STRING2'])"
   ]
  },
  {
   "cell_type": "markdown",
   "metadata": {},
   "source": [
    "## Disconnect"
   ]
  },
  {
   "cell_type": "code",
   "execution_count": null,
   "metadata": {
    "tags": []
   },
   "outputs": [],
   "source": [
    "# Disconnect\n",
    "ble.disconnect()"
   ]
  },
  {
   "cell_type": "code",
   "execution_count": null,
   "metadata": {},
   "outputs": [],
   "source": []
  },
  {
   "cell_type": "code",
   "execution_count": null,
   "metadata": {},
   "outputs": [],
   "source": [
    "times= [0,10,20,30,40,50,60,70,80,90,100,110,120,130,140]\n",
    "trial1 = [0.4,10.6,19.9,29.7,39.8,50.1,60.2,69.9,80,89.9,96,109,115,127,80]\n",
    "trial2 = [0.6,10.4,20.2,29.9,40.4,50.2,60.3,69.8,79.9,90.2,96.1,105,113,125,87]\n",
    "trial3 = [0.5,10.7,20.1,30.1,40.1,49.9,60.1,70,79.8,89.8,96.5,106,118,124,72]\n",
    "\n",
    "plt.plot(times[10:],trial1[10:],label = \"Trial 1\")\n",
    "plt.plot(times,trial2,label = \"Trial 2\")\n",
    "plt.plot(times,trial3,label = \"Trial 3\")\n",
    "plt.xlabel('Actual (mm)')\n",
    "plt.ylabel('Measured (mm)')\n",
    "plt.show"
   ]
  },
  {
   "cell_type": "code",
   "execution_count": null,
   "metadata": {},
   "outputs": [],
   "source": [
    "from uuid import uuid4\n",
    "uuid4()"
   ]
  },
  {
   "cell_type": "code",
   "execution_count": null,
   "metadata": {},
   "outputs": [],
   "source": []
  }
 ],
 "metadata": {
  "kernelspec": {
   "display_name": "Python 3 (ipykernel)",
   "language": "python",
   "name": "python3"
  },
  "language_info": {
   "codemirror_mode": {
    "name": "ipython",
    "version": 3
   },
   "file_extension": ".py",
   "mimetype": "text/x-python",
   "name": "python",
   "nbconvert_exporter": "python",
   "pygments_lexer": "ipython3",
   "version": "3.11.1"
  }
 },
 "nbformat": 4,
 "nbformat_minor": 4
}
