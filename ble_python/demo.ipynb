{
 "cells": [
  {
   "cell_type": "markdown",
   "metadata": {},
   "source": [
    "## Import necessary modules\n",
    "Run this cell before running any other cells"
   ]
  },
  {
   "cell_type": "code",
   "execution_count": 16,
   "metadata": {
    "tags": []
   },
   "outputs": [
    {
     "name": "stdout",
     "output_type": "stream",
     "text": [
      "The autoreload extension is already loaded. To reload it, use:\n",
      "  %reload_ext autoreload\n"
     ]
    }
   ],
   "source": [
    "%load_ext autoreload\n",
    "%autoreload 2\n",
    "\n",
    "from ble import get_ble_controller\n",
    "from base_ble import LOG\n",
    "from cmd_types import CMD\n",
    "import time\n",
    "import numpy as np\n",
    "\n",
    "LOG.propagate = False"
   ]
  },
  {
   "cell_type": "markdown",
   "metadata": {},
   "source": [
    "# Printing and Logging\n",
    "## Printing\n",
    "You can use the **print()** function in Python to print messages to the screen. <br>\n",
    "The message can be a string, or any other object, the object will be converted into a string before it is written to the screen. <br>\n",
    "\n",
    "## Logging\n",
    "You could use the logging module that is setup in *utils.py*. <br>\n",
    "It prints to both your screen (standard output) as well as to log files (*ble.log*) in the *logs* directory. <br>\n",
    "This is the recommended way to output messages, since the log files can help with debugging. <br>\n",
    "The logging module also provides different log levels as shown below, each formatted with a different color for increased visibility. <br>\n",
    "\n",
    "__**NOTE**__: You may notice that the DEBUG message is not printed to the screen but is printed in the log file. This is because the logging level for the screen is set to INFO and for the file is set to DEBUG. You can change the default log levels in *utils.py* (**STREAM_LOG_LEVEL** and **FILE_LOG_LEVEL**). \n",
    "\n",
    "## Formatting output\n",
    "To format your strings, you may use %-formatting, str.format() or f-strings. <br>\n",
    "The most \"pythonic\" way would be to use f-strings. [Here](https://realpython.com/python-f-strings/) is a good tutorial on f-strings. <br>"
   ]
  },
  {
   "cell_type": "code",
   "execution_count": 17,
   "metadata": {
    "tags": []
   },
   "outputs": [
    {
     "name": "stdout",
     "output_type": "stream",
     "text": [
      "2023-02-15 00:36:01,145 |\u001b[32m INFO     \u001b[0m|: info\n",
      "2023-02-15 00:36:01,146 |\u001b[33m WARNING  \u001b[0m|: warning\n",
      "2023-02-15 00:36:01,148 |\u001b[31m ERROR    \u001b[0m|: error\n",
      "2023-02-15 00:36:01,149 |\u001b[31m\u001b[47m\u001b[1m CRITICAL \u001b[0m|: critical\n"
     ]
    }
   ],
   "source": [
    "LOG.debug(\"debug\")\n",
    "LOG.info(\"info\")\n",
    "LOG.warning(\"warning\")\n",
    "LOG.error(\"error\")\n",
    "LOG.critical(\"critical\")"
   ]
  },
  {
   "cell_type": "markdown",
   "metadata": {},
   "source": [
    "<hr>\n",
    "\n",
    "# BLE\n",
    "## ArtemisBLEController\n",
    "The class **ArtemisBLEController** (defined in *ble.py*) provides member functions to handle various BLE operations to send and receive data to/from the Artemis board, provided the accompanying Arduino sketch is running on the Artemis board. <br>\n",
    "\n",
    "<table align=\"left\">\n",
    "     <tr>\n",
    "        <th style=\"text-align: left; font-size: medium\">Member Functions</th>\n",
    "        <th style=\"text-align: left; font-size: medium\">Description</th style=\"text-align: left\">\n",
    "    </tr>\n",
    "    <tr>\n",
    "        <th style=\"text-align: left\"><span style=\"color:rgb(201,152,4);font-family:monospace\">reload_config()</span></th>\n",
    "        <th style=\"text-align: left\"><span style=\"font-weight: normal\">Reload changes made in <em>connection.yaml.</em></span></th style=\"text-align: left\">\n",
    "    </tr>\n",
    "    <tr>\n",
    "        <th style=\"text-align: left\"><span style=\"color:rgb(201,152,4);font-family:monospace\">connect()</span></th>\n",
    "        <th style=\"text-align: left\"><span style=\"font-weight: normal\">Connect to the Artemis board, whose MAC address is specified in <em>connection.yaml</em>.</span></th>\n",
    "    </tr>\n",
    "    <tr>\n",
    "        <th style=\"text-align: left\"><span style=\"color:rgb(201,152,4);font-family:monospace\">disconnect()</span></th>\n",
    "        <th style=\"text-align: left\"><span style=\"font-weight: normal\">Disconnect from the Artemis board.</span></th>\n",
    "    </tr>\n",
    "    <tr>\n",
    "        <th style=\"text-align: left\"><span style=\"color:rgb(201,152,4);font-family:monospace\">is_connected()</span></th>\n",
    "        <th style=\"text-align: left\"><span style=\"font-weight: normal\">Return a boolean indicating whether your controller is connected to the Artemis board or not.</span></th>\n",
    "    </tr>\n",
    "    <tr>\n",
    "        <th style=\"text-align: left\"><span style=\"color:rgb(201,152,4);font-family:monospace\">send_command(cmd_type, data)</span></th>\n",
    "        <th style=\"text-align: left\"><span style=\"font-weight: normal\">Send the command <strong>cmd_type</strong> (integer) with <strong>data</strong> (string) to the Artemis board.</span></th>\n",
    "    </tr>\n",
    "    <tr>\n",
    "        <th style=\"text-align: left\"><span style=\"color:rgb(201,152,4);font-family:monospace\">receive_float(uuid) <br> receive_string(uuid) <br> receive_int(uuid)</span></th>\n",
    "        <th style=\"text-align: left\"><span style=\"font-weight: normal\">Read the GATT characteristic (specified by its <strong>uuid</strong>) of type float, string or int. <br> The type of the GATT\n",
    "            characteristic is determined by the classes BLEFloatCharacteristic, BLECStringCharacteristic or\n",
    "            BLEIntCharacteristic in the Arduino sketch.</span></th>\n",
    "    </tr>\n",
    "    <tr>\n",
    "        <th style=\"text-align: left\"><span style=\"color:rgb(201,152,4);font-family:monospace\">start_notify(uuid, notification_handler)</span></th>\n",
    "        <th style=\"text-align: left\"><span style=\"font-weight: normal\">Activate notifications on the GATT characteristic (specified by its <strong>uuid</strong>). <br> <strong>notification_handler</strong> is a\n",
    "            function callback which must accept two inputs; the first will be a uuid string object and the second will\n",
    "            be the bytearray of the characteristic value.</span></th>\n",
    "    </tr>\n",
    "    <tr>\n",
    "        <th style=\"text-align: left\"><span style=\"color:rgb(201,152,4);font-family:monospace\">bytearray_to_float(byte_array) <br> bytearray_to_string(byte_array) <br> bytearray_to_int(byte_array)</span></th>\n",
    "        <th style=\"text-align: left\"><span style=\"font-weight: normal\">Convert the <strong>bytearray</strong> to float, string or int, respectively. <br> You may use these functions inside your\n",
    "            notification callback function.</span></th>\n",
    "    </tr>\n",
    "    <tr>\n",
    "        <th style=\"text-align: left\"><span style=\"color:rgb(201,152,4);font-family:monospace\">stop_notify(uuid)</span></th>\n",
    "        <th style=\"text-align: left\"><span style=\"font-weight: normal\">Stop notifications on the GATT characteristic (specified by its <strong>uuid</strong>).</span></th>\n",
    "    </tr>\n",
    "</table>\n",
    "\n",
    "<table align=\"left\">\n",
    "     <tr>\n",
    "        <th style=\"text-align: left; font-size: medium\">Member Variables</th>\n",
    "        <th style=\"text-align: left; font-size: medium\">Description</th style=\"text-align: left\">\n",
    "    </tr>\n",
    "    <tr>\n",
    "        <th style=\"text-align: left\"><span style=\"color:rgb(201,152,4);font-family:monospace\">uuid</span></th>\n",
    "        <th style=\"text-align: left\"><span style=\"font-weight: normal\">A dictionary that stores the UUIDs of the various characteristics specified in <em>connection.yaml</em>.</span></th>\n",
    "    </tr>\n",
    "</table>"
   ]
  },
  {
   "cell_type": "markdown",
   "metadata": {},
   "source": [
    "## Configuration\n",
    "- The MAC address, Service UUID and GATT characteristic UUIDs are defined in the file: *connection.yaml*.\n",
    "- They should match the UUIDs used in the Arduino sketch.\n",
    "- The artemis board running the base code should display its MAC address in the serial monitor.\n",
    "- Update the **artemis_address** in *connection.yaml*, accordingly.\n",
    "- Make sure to call **ble.reload_config()** or **get_ble_controller()** (which internally calls **reload_config()**) after making any changes to your configuration file.\n",
    "\n",
    "<hr>"
   ]
  },
  {
   "cell_type": "markdown",
   "metadata": {},
   "source": [
    "In the below cell, we create an **ArtemisBLEController** object using **get_ble_controller()** (defined in *ble.py*), which creates and/or returns a single instance of **ArtemisBLEController**. <br>\n",
    "<span style=\"color:rgb(240,50,50)\"> __NOTE__: Do not use the class directly to instantiate an object. </span><br>"
   ]
  },
  {
   "cell_type": "code",
   "execution_count": 18,
   "metadata": {
    "tags": []
   },
   "outputs": [
    {
     "name": "stdout",
     "output_type": "stream",
     "text": [
      "2023-02-15 00:36:02,627 |\u001b[32m INFO     \u001b[0m|: Looking for Artemis Nano Peripheral Device: c0:07:1d:96:09:44\n",
      "2023-02-15 00:36:07,114 |\u001b[32m INFO     \u001b[0m|: Connected to c0:07:1d:96:09:44\n"
     ]
    }
   ],
   "source": [
    "# Get ArtemisBLEController object\n",
    "ble = get_ble_controller()\n",
    "\n",
    "# Connect to the Artemis Device\n",
    "ble.connect()"
   ]
  },
  {
   "cell_type": "markdown",
   "metadata": {},
   "source": [
    "## Receive data from the Artemis board"
   ]
  },
  {
   "cell_type": "markdown",
   "metadata": {},
   "source": [
    "The cell below shows examples of reading different types (as defined in the Arduino sketch) of GATT characteristics."
   ]
  },
  {
   "cell_type": "code",
   "execution_count": 19,
   "metadata": {
    "tags": []
   },
   "outputs": [
    {
     "name": "stdout",
     "output_type": "stream",
     "text": [
      "3.5\n"
     ]
    }
   ],
   "source": [
    "# Read a float GATT Charactersistic\n",
    "f = ble.receive_float(ble.uuid['RX_FLOAT'])\n",
    "print(f)"
   ]
  },
  {
   "cell_type": "code",
   "execution_count": 20,
   "metadata": {
    "tags": []
   },
   "outputs": [
    {
     "name": "stdout",
     "output_type": "stream",
     "text": [
      "[->9.0<-]\n"
     ]
    }
   ],
   "source": [
    "# Read a string GATT Charactersistic\n",
    "s = ble.receive_string(ble.uuid['RX_STRING'])\n",
    "print(s)"
   ]
  },
  {
   "cell_type": "markdown",
   "metadata": {},
   "source": [
    "## Send a command to the Artemis board\n",
    "Send the PING command and read the reply string from the string characteristic RX_STRING. <br>\n",
    "__NOTE__: The **send_command()** essentially sends a string data to the GATT characteristic (TX_CMD_STRING). The GATT characteristic in the Arduino sketch is of type BLECStringCharacteristic."
   ]
  },
  {
   "cell_type": "code",
   "execution_count": 21,
   "metadata": {
    "tags": []
   },
   "outputs": [],
   "source": [
    "ble.send_command(CMD.PING, \"\")"
   ]
  },
  {
   "cell_type": "code",
   "execution_count": 22,
   "metadata": {
    "tags": []
   },
   "outputs": [
    {
     "name": "stdout",
     "output_type": "stream",
     "text": [
      "PONG\n"
     ]
    }
   ],
   "source": [
    "s = ble.receive_string(ble.uuid['RX_STRING'])\n",
    "print(s)"
   ]
  },
  {
   "cell_type": "markdown",
   "metadata": {},
   "source": [
    "The cell below shows an example of the SEND_TWO_INTS command. <br> The two values in the **data** are separated by a delimiter \"|\". <br>\n",
    "Refer Lab 2 documentation for more information on the command protocol."
   ]
  },
  {
   "cell_type": "code",
   "execution_count": 23,
   "metadata": {
    "tags": []
   },
   "outputs": [],
   "source": [
    "ble.send_command(CMD.SEND_TWO_INTS, \"2|-6\")"
   ]
  },
  {
   "cell_type": "markdown",
   "metadata": {},
   "source": [
    "The Artemis board should print the two integers to the serial monitor in the ArduinoIDE. "
   ]
  },
  {
   "cell_type": "markdown",
   "metadata": {},
   "source": [
    "#### ECHO"
   ]
  },
  {
   "cell_type": "code",
   "execution_count": 24,
   "metadata": {
    "tags": []
   },
   "outputs": [
    {
     "name": "stdout",
     "output_type": "stream",
     "text": [
      "Artemis Says: Hello!\n"
     ]
    }
   ],
   "source": [
    "ble.send_command(CMD.ECHO, \"Hello!\")\n",
    "s = ble.receive_string(ble.uuid['RX_STRING'])\n",
    "print(s)"
   ]
  },
  {
   "cell_type": "markdown",
   "metadata": {},
   "source": [
    "#### GET_TIME_MILLIS"
   ]
  },
  {
   "cell_type": "code",
   "execution_count": 25,
   "metadata": {
    "tags": []
   },
   "outputs": [
    {
     "name": "stdout",
     "output_type": "stream",
     "text": [
      "T:34872\n"
     ]
    }
   ],
   "source": [
    "ble.send_command(CMD.GET_TIME_MILLIS,\"\")\n",
    "s = ble.receive_string(ble.uuid['RX_STRING'])\n",
    "print(s)"
   ]
  },
  {
   "cell_type": "markdown",
   "metadata": {
    "tags": []
   },
   "source": [
    "#### Notification Handler"
   ]
  },
  {
   "cell_type": "code",
   "execution_count": 26,
   "metadata": {
    "tags": []
   },
   "outputs": [],
   "source": [
    "def get_millis_handler(uuid, byte_array):\n",
    "    time = ble.bytearray_to_string(byte_array)\n",
    "    time = time[2:]\n",
    "    print(time)\n",
    "    \n",
    "def get_temp_handler(uuid, byte_array):\n",
    "    temp = ble.bytearray_to_string(byte_array).split('|')\n",
    "    count = 1\n",
    "    for i in range(1,6) :\n",
    "        print (i, \": \", temp[i-1])       \n",
    "\n",
    "count = 1\n",
    "def string_handler(uuid, byte_array):\n",
    "    global count\n",
    "    tempRapid = ble.bytearray_to_string(byte_array)\n",
    "    \n",
    "    if tempRapid == \"END\" :\n",
    "        count = 1\n",
    "        \n",
    "    elif \"C\" not in tempRapid:\n",
    "        print(tempRapid[2:])\n",
    "    \n",
    "    else :         \n",
    "        print(count, \": \", tempRapid)\n",
    "        count+=1\n",
    "    \n",
    "        \n",
    "    \n",
    "ble.start_notify(ble.uuid['RX_STRING'], string_handler)\n",
    "\n",
    "    "
   ]
  },
  {
   "cell_type": "code",
   "execution_count": 27,
   "metadata": {
    "tags": []
   },
   "outputs": [
    {
     "name": "stdout",
     "output_type": "stream",
     "text": [
      "37681\n",
      "37802\n"
     ]
    }
   ],
   "source": [
    "ble.send_command(CMD.GET_TIME_MILLIS,\"\")\n",
    "ble.send_command(CMD.GET_TIME_MILLIS,\"\")"
   ]
  },
  {
   "cell_type": "code",
   "execution_count": 28,
   "metadata": {
    "tags": []
   },
   "outputs": [
    {
     "name": "stdout",
     "output_type": "stream",
     "text": [
      "1 :  T:39416 C:23.556\n",
      "2 :  T:40418 C:23.481\n",
      "3 :  T:41419 C:23.68\n",
      "4 :  T:42420 C:23.593\n",
      "5 :  T:43421 C:24.6\n",
      "1 :  T:43425 C:23.443\n",
      "2 :  T:44426 C:23.518\n",
      "3 :  T:45427 C:23.781\n",
      "4 :  T:46428 C:23.593\n",
      "5 :  T:47429 C:23.293\n"
     ]
    }
   ],
   "source": [
    "ble.send_command(CMD.GET_TEMP_5s,\"\")\n",
    "ble.send_command(CMD.GET_TEMP_5s,\"\")"
   ]
  },
  {
   "cell_type": "code",
   "execution_count": 30,
   "metadata": {
    "tags": []
   },
   "outputs": [
    {
     "name": "stdout",
     "output_type": "stream",
     "text": [
      "1 :  T:59920 C:23.106\n",
      "2 :  T:59923 C:23.218\n",
      "3 :  T:59926 C:23.406\n",
      "4 :  T:59933 C:23.406\n",
      "5 :  T:59978 C:23.631\n",
      "6 :  T:59988 C:23.331\n",
      "7 :  T:59993 C:23.181\n",
      "8 :  T:60040 C:23.518\n",
      "9 :  T:60044 C:23.443\n",
      "10 :  T:60047 C:23.406\n",
      "11 :  T:60050 C:23.368\n",
      "12 :  T:60100 C:22.318\n",
      "13 :  T:60103 C:22.955\n",
      "14 :  T:60106 C:22.993\n",
      "15 :  T:60109 C:23.443\n",
      "16 :  T:60158 C:23.143\n",
      "17 :  T:60165 C:23.743\n",
      "18 :  T:60168 C:23.631\n",
      "19 :  T:60176 C:23.31\n",
      "20 :  T:60221 C:23.443\n",
      "21 :  T:60225 C:23.31\n",
      "22 :  T:60228 C:22.730\n",
      "23 :  T:60230 C:23.406\n",
      "24 :  T:60283 C:23.593\n",
      "25 :  T:60286 C:23.856\n",
      "26 :  T:60291 C:23.968\n",
      "27 :  T:60294 C:22.918\n",
      "28 :  T:60339 C:23.518\n",
      "29 :  T:60343 C:23.406\n",
      "30 :  T:60346 C:23.181\n",
      "31 :  T:60349 C:23.181\n",
      "32 :  T:60399 C:22.993\n",
      "33 :  T:60402 C:23.218\n",
      "34 :  T:60405 C:23.668\n",
      "35 :  T:60408 C:23.31\n",
      "36 :  T:60457 C:22.993\n",
      "37 :  T:60464 C:23.518\n",
      "38 :  T:60467 C:23.143\n",
      "39 :  T:60473 C:23.893\n",
      "40 :  T:60522 C:23.481\n",
      "41 :  T:60529 C:23.68\n",
      "42 :  T:60532 C:23.181\n",
      "43 :  T:60534 C:22.318\n",
      "44 :  T:60578 C:23.143\n",
      "45 :  T:60585 C:23.443\n",
      "46 :  T:60588 C:22.955\n",
      "47 :  T:60592 C:23.668\n",
      "48 :  T:60640 C:22.768\n",
      "49 :  T:60644 C:23.293\n",
      "50 :  T:60647 C:23.293\n",
      "51 :  T:60650 C:22.993\n",
      "52 :  T:60700 C:23.818\n",
      "53 :  T:60706 C:23.856\n",
      "54 :  T:60709 C:23.556\n",
      "55 :  T:60711 C:23.368\n",
      "56 :  T:60758 C:23.743\n",
      "57 :  T:60762 C:23.68\n",
      "58 :  T:60765 C:23.181\n",
      "59 :  T:60767 C:23.368\n",
      "60 :  T:60818 C:23.368\n",
      "61 :  T:60821 C:22.843\n",
      "62 :  T:60824 C:22.843\n",
      "63 :  T:60829 C:23.331\n",
      "64 :  T:60876 C:23.443\n",
      "65 :  T:60881 C:22.693\n",
      "66 :  T:60884 C:23.706\n",
      "67 :  T:60886 C:23.181\n",
      "68 :  T:60940 C:23.218\n",
      "69 :  T:60944 C:22.993\n",
      "70 :  T:60947 C:23.106\n",
      "71 :  T:60949 C:23.143\n",
      "72 :  T:61000 C:23.443\n",
      "73 :  T:61003 C:23.818\n",
      "74 :  T:61006 C:22.993\n",
      "75 :  T:61058 C:23.443\n",
      "76 :  T:61062 C:23.368\n",
      "77 :  T:61065 C:23.293\n",
      "78 :  T:61068 C:23.668\n",
      "79 :  T:61120 C:22.918\n",
      "80 :  T:61124 C:23.218\n",
      "81 :  T:61127 C:23.443\n",
      "82 :  T:61130 C:23.68\n",
      "83 :  T:61176 C:22.993\n",
      "84 :  T:61183 C:23.31\n",
      "85 :  T:61186 C:23.256\n",
      "86 :  T:61188 C:23.143\n",
      "87 :  T:61239 C:23.556\n",
      "88 :  T:61243 C:23.256\n",
      "89 :  T:61246 C:23.668\n",
      "90 :  T:61293 C:24.756\n",
      "91 :  T:61303 C:23.481\n",
      "92 :  T:61310 C:23.256\n",
      "93 :  T:61313 C:23.106\n",
      "94 :  T:61357 C:24.43\n",
      "95 :  T:61364 C:23.818\n",
      "96 :  T:61367 C:23.293\n",
      "97 :  T:61369 C:23.368\n",
      "98 :  T:61419 C:23.143\n",
      "99 :  T:61423 C:23.331\n",
      "100 :  T:61426 C:23.368\n",
      "101 :  T:61429 C:22.843\n",
      "102 :  T:61475 C:23.368\n",
      "103 :  T:61482 C:23.331\n",
      "104 :  T:61485 C:23.181\n",
      "105 :  T:61488 C:23.143\n",
      "106 :  T:61534 C:23.518\n",
      "107 :  T:61540 C:23.293\n",
      "108 :  T:61543 C:23.518\n",
      "109 :  T:61549 C:23.31\n",
      "110 :  T:61592 C:23.968\n",
      "111 :  T:61599 C:23.668\n",
      "112 :  T:61602 C:23.593\n",
      "113 :  T:61606 C:23.706\n",
      "114 :  T:61651 C:23.218\n",
      "115 :  T:61660 C:22.130\n",
      "116 :  T:61663 C:23.256\n",
      "117 :  T:61669 C:23.181\n",
      "118 :  T:61718 C:23.443\n",
      "119 :  T:61722 C:23.668\n",
      "120 :  T:61725 C:23.668\n",
      "121 :  T:61728 C:22.918\n",
      "122 :  T:61772 C:22.693\n",
      "123 :  T:61779 C:23.481\n",
      "124 :  T:61782 C:23.181\n",
      "125 :  T:61788 C:23.518\n",
      "126 :  T:61835 C:23.293\n",
      "127 :  T:61839 C:22.993\n",
      "128 :  T:61842 C:23.781\n",
      "129 :  T:61845 C:23.518\n",
      "130 :  T:61897 C:23.556\n",
      "131 :  T:61900 C:23.143\n",
      "132 :  T:61904 C:23.368\n",
      "133 :  T:61907 C:22.880\n",
      "134 :  T:61953 C:23.256\n",
      "135 :  T:61957 C:23.743\n",
      "136 :  T:61960 C:23.368\n",
      "137 :  T:61963 C:23.818\n",
      "138 :  T:62013 C:24.43\n",
      "139 :  T:62016 C:23.631\n",
      "140 :  T:62019 C:23.331\n",
      "141 :  T:62022 C:23.368\n",
      "142 :  T:62072 C:23.68\n",
      "143 :  T:62076 C:23.293\n",
      "144 :  T:62079 C:23.593\n",
      "145 :  T:62081 C:23.31\n",
      "146 :  T:62136 C:23.331\n",
      "147 :  T:62140 C:23.743\n",
      "148 :  T:62143 C:23.368\n",
      "149 :  T:62194 C:23.181\n",
      "150 :  T:62197 C:23.106\n",
      "151 :  T:62200 C:23.481\n",
      "152 :  T:62203 C:22.655\n",
      "153 :  T:62255 C:23.706\n",
      "154 :  T:62258 C:23.368\n",
      "155 :  T:62261 C:23.293\n",
      "156 :  T:62264 C:23.518\n",
      "157 :  T:62315 C:23.368\n",
      "158 :  T:62319 C:23.818\n",
      "159 :  T:62322 C:23.218\n",
      "160 :  T:62325 C:23.68\n",
      "161 :  T:62377 C:22.843\n",
      "162 :  T:62381 C:23.593\n",
      "163 :  T:62384 C:23.368\n",
      "164 :  T:62386 C:22.880\n",
      "165 :  T:62428 C:23.68\n",
      "166 :  T:62437 C:23.368\n",
      "167 :  T:62440 C:23.556\n",
      "168 :  T:62445 C:23.406\n",
      "169 :  T:62496 C:23.256\n",
      "170 :  T:62503 C:24.6\n",
      "171 :  T:62506 C:23.218\n",
      "172 :  T:62508 C:23.743\n",
      "173 :  T:62550 C:23.143\n",
      "174 :  T:62558 C:23.818\n",
      "175 :  T:62561 C:23.181\n",
      "176 :  T:62564 C:23.143\n",
      "177 :  T:62613 C:24.156\n",
      "178 :  T:62617 C:23.368\n",
      "179 :  T:62620 C:23.931\n",
      "180 :  T:62668 C:23.181\n",
      "181 :  T:62676 C:23.443\n",
      "182 :  T:62679 C:23.331\n",
      "183 :  T:62683 C:23.518\n",
      "184 :  T:62728 C:23.593\n",
      "185 :  T:62737 C:23.556\n",
      "186 :  T:62740 C:23.256\n",
      "187 :  T:62744 C:23.293\n",
      "188 :  T:62792 C:23.331\n",
      "189 :  T:62798 C:23.406\n",
      "190 :  T:62801 C:23.293\n",
      "191 :  T:62804 C:22.993\n",
      "192 :  T:62850 C:23.593\n",
      "193 :  T:62857 C:23.893\n",
      "194 :  T:62860 C:23.593\n",
      "195 :  T:62863 C:23.743\n",
      "196 :  T:62912 C:23.256\n",
      "197 :  T:62916 C:23.443\n",
      "198 :  T:62919 C:23.743\n",
      "199 :  T:62921 C:23.518\n",
      "200 :  T:62967 C:23.181\n",
      "201 :  T:62977 C:23.31\n",
      "202 :  T:62982 C:23.556\n",
      "203 :  T:63029 C:23.293\n",
      "204 :  T:63033 C:23.181\n",
      "205 :  T:63036 C:23.593\n",
      "206 :  T:63039 C:23.218\n",
      "207 :  T:63149 C:23.293\n",
      "208 :  T:63154 C:23.631\n",
      "209 :  T:63157 C:23.443\n",
      "210 :  T:63160 C:22.843\n",
      "211 :  T:63210 C:23.781\n",
      "212 :  T:63214 C:23.518\n",
      "213 :  T:63217 C:23.143\n",
      "214 :  T:63220 C:23.781\n",
      "215 :  T:63266 C:23.68\n",
      "216 :  T:63273 C:22.918\n",
      "217 :  T:63276 C:23.706\n",
      "218 :  T:63280 C:23.293\n",
      "219 :  T:63325 C:23.143\n",
      "220 :  T:63334 C:23.518\n",
      "221 :  T:63337 C:23.481\n",
      "222 :  T:63343 C:23.181\n",
      "223 :  T:63392 C:23.518\n",
      "224 :  T:63396 C:23.481\n",
      "225 :  T:63399 C:23.856\n",
      "226 :  T:63510 C:23.181\n",
      "227 :  T:63514 C:23.518\n",
      "228 :  T:63517 C:23.481\n",
      "229 :  T:63520 C:23.331\n",
      "230 :  T:63570 C:23.706\n",
      "231 :  T:63573 C:23.743\n",
      "232 :  T:63576 C:23.443\n",
      "233 :  T:63579 C:23.443\n",
      "234 :  T:63629 C:22.993\n",
      "235 :  T:63636 C:22.693\n",
      "236 :  T:63639 C:23.668\n",
      "237 :  T:63642 C:23.106\n",
      "238 :  T:63691 C:23.743\n",
      "239 :  T:63695 C:23.218\n",
      "240 :  T:63698 C:23.293\n",
      "241 :  T:63700 C:23.31\n",
      "242 :  T:63746 C:22.843\n",
      "243 :  T:63750 C:23.218\n",
      "244 :  T:63753 C:23.31\n",
      "245 :  T:63810 C:23.143\n",
      "246 :  T:63817 C:23.743\n",
      "247 :  T:63820 C:23.331\n",
      "248 :  T:63822 C:23.931\n",
      "249 :  T:63869 C:23.368\n",
      "250 :  T:63872 C:23.443\n",
      "251 :  T:63875 C:23.181\n",
      "252 :  T:63924 C:23.68\n",
      "253 :  T:63933 C:22.505\n",
      "254 :  T:63936 C:23.631\n",
      "255 :  T:63942 C:23.518\n",
      "256 :  T:63987 C:23.331\n",
      "257 :  T:63990 C:23.293\n",
      "258 :  T:63993 C:23.293\n",
      "259 :  T:63996 C:23.293\n",
      "260 :  T:64045 C:23.443\n",
      "261 :  T:64051 C:23.218\n",
      "262 :  T:64054 C:23.781\n",
      "263 :  T:64057 C:23.368\n",
      "264 :  T:64105 C:25.282\n",
      "265 :  T:64111 C:23.743\n",
      "266 :  T:64114 C:23.293\n",
      "267 :  T:64120 C:23.68\n",
      "268 :  T:64163 C:23.368\n",
      "269 :  T:64173 C:23.518\n",
      "270 :  T:64180 C:23.68\n",
      "271 :  T:64183 C:23.631\n",
      "272 :  T:64226 C:23.443\n",
      "273 :  T:64229 C:22.918\n",
      "274 :  T:64236 C:23.818\n",
      "275 :  T:64239 C:23.443\n",
      "276 :  T:64289 C:23.218\n",
      "277 :  T:64293 C:23.106\n",
      "278 :  T:64296 C:22.955\n",
      "279 :  T:64299 C:23.368\n",
      "280 :  T:64349 C:23.31\n",
      "281 :  T:64355 C:23.218\n",
      "282 :  T:64358 C:23.518\n",
      "283 :  T:64360 C:23.181\n",
      "284 :  T:64406 C:23.68\n",
      "285 :  T:64410 C:23.293\n",
      "286 :  T:64413 C:23.293\n",
      "287 :  T:64415 C:23.593\n",
      "288 :  T:64523 C:23.218\n",
      "289 :  T:64527 C:23.406\n",
      "290 :  T:64530 C:23.668\n",
      "291 :  T:64533 C:23.68\n",
      "292 :  T:64587 C:23.743\n",
      "293 :  T:64590 C:23.218\n",
      "294 :  T:64596 C:23.331\n",
      "295 :  T:64599 C:23.68\n",
      "296 :  T:64642 C:23.218\n",
      "297 :  T:64650 C:23.68\n",
      "298 :  T:64653 C:23.481\n",
      "299 :  T:64659 C:23.518\n",
      "300 :  T:64703 C:23.706\n",
      "301 :  T:64706 C:22.318\n",
      "302 :  T:64710 C:23.743\n",
      "303 :  T:64713 C:22.993\n",
      "304 :  T:64768 C:23.218\n",
      "305 :  T:64775 C:23.518\n",
      "306 :  T:64778 C:23.781\n",
      "307 :  T:64781 C:23.218\n",
      "308 :  T:64822 C:24.831\n",
      "309 :  T:64829 C:23.293\n",
      "310 :  T:64832 C:23.518\n",
      "311 :  T:64835 C:23.331\n",
      "312 :  T:64884 C:23.443\n",
      "313 :  T:64888 C:23.743\n",
      "314 :  T:64891 C:23.218\n",
      "315 :  T:64893 C:23.668\n"
     ]
    }
   ],
   "source": [
    "ble.send_command(CMD.GET_TEMP_5s_RAPID,\"\")"
   ]
  },
  {
   "cell_type": "code",
   "execution_count": 25,
   "metadata": {
    "tags": []
   },
   "outputs": [],
   "source": [
    "ble.stop_notify(ble.uuid['RX_STRING'])"
   ]
  },
  {
   "cell_type": "markdown",
   "metadata": {},
   "source": [
    "## Disconnect"
   ]
  },
  {
   "cell_type": "code",
   "execution_count": 59,
   "metadata": {
    "tags": []
   },
   "outputs": [
    {
     "ename": "Exception",
     "evalue": "Not connected to a BLE device",
     "output_type": "error",
     "traceback": [
      "\u001b[1;31m---------------------------------------------------------------------------\u001b[0m",
      "\u001b[1;31mException\u001b[0m                                 Traceback (most recent call last)",
      "Cell \u001b[1;32mIn[59], line 2\u001b[0m\n\u001b[0;32m      1\u001b[0m \u001b[38;5;66;03m# Disconnect\u001b[39;00m\n\u001b[1;32m----> 2\u001b[0m \u001b[43mble\u001b[49m\u001b[38;5;241;43m.\u001b[39;49m\u001b[43mdisconnect\u001b[49m\u001b[43m(\u001b[49m\u001b[43m)\u001b[49m\n",
      "File \u001b[1;32m~\\Desktop\\ECE4160LabCode\\ble_python\\ble.py:72\u001b[0m, in \u001b[0;36mBaseBLEController.disconnect\u001b[1;34m(self)\u001b[0m\n\u001b[0;32m     71\u001b[0m \u001b[38;5;28;01mdef\u001b[39;00m \u001b[38;5;21mdisconnect\u001b[39m(\u001b[38;5;28mself\u001b[39m):\n\u001b[1;32m---> 72\u001b[0m     \u001b[38;5;28;43mself\u001b[39;49m\u001b[38;5;241;43m.\u001b[39;49m\u001b[43m_wait\u001b[49m\u001b[43m(\u001b[49m\u001b[38;5;28;43mself\u001b[39;49m\u001b[38;5;241;43m.\u001b[39;49m\u001b[43mdevice\u001b[49m\u001b[38;5;241;43m.\u001b[39;49m\u001b[43m_disconnect\u001b[49m\u001b[43m(\u001b[49m\u001b[43m)\u001b[49m\u001b[43m)\u001b[49m\n",
      "File \u001b[1;32m~\\Desktop\\ECE4160LabCode\\ble_python\\base_ble.py:27\u001b[0m, in \u001b[0;36mwait_b\u001b[1;34m(coroutine)\u001b[0m\n\u001b[0;32m     26\u001b[0m \u001b[38;5;28;01mdef\u001b[39;00m \u001b[38;5;21mwait_b\u001b[39m(coroutine):\n\u001b[1;32m---> 27\u001b[0m     \u001b[38;5;28;01mreturn\u001b[39;00m \u001b[43masyncio\u001b[49m\u001b[38;5;241;43m.\u001b[39;49m\u001b[43mrun\u001b[49m\u001b[43m(\u001b[49m\u001b[43mcoroutine\u001b[49m\u001b[43m)\u001b[49m\n",
      "File \u001b[1;32m~\\Desktop\\ECE4160LabCode\\FastRobots_ble\\Lib\\site-packages\\nest_asyncio.py:35\u001b[0m, in \u001b[0;36m_patch_asyncio.<locals>.run\u001b[1;34m(main, debug)\u001b[0m\n\u001b[0;32m     33\u001b[0m task \u001b[38;5;241m=\u001b[39m asyncio\u001b[38;5;241m.\u001b[39mensure_future(main)\n\u001b[0;32m     34\u001b[0m \u001b[38;5;28;01mtry\u001b[39;00m:\n\u001b[1;32m---> 35\u001b[0m     \u001b[38;5;28;01mreturn\u001b[39;00m \u001b[43mloop\u001b[49m\u001b[38;5;241;43m.\u001b[39;49m\u001b[43mrun_until_complete\u001b[49m\u001b[43m(\u001b[49m\u001b[43mtask\u001b[49m\u001b[43m)\u001b[49m\n\u001b[0;32m     36\u001b[0m \u001b[38;5;28;01mfinally\u001b[39;00m:\n\u001b[0;32m     37\u001b[0m     \u001b[38;5;28;01mif\u001b[39;00m \u001b[38;5;129;01mnot\u001b[39;00m task\u001b[38;5;241m.\u001b[39mdone():\n",
      "File \u001b[1;32m~\\Desktop\\ECE4160LabCode\\FastRobots_ble\\Lib\\site-packages\\nest_asyncio.py:90\u001b[0m, in \u001b[0;36m_patch_loop.<locals>.run_until_complete\u001b[1;34m(self, future)\u001b[0m\n\u001b[0;32m     87\u001b[0m \u001b[38;5;28;01mif\u001b[39;00m \u001b[38;5;129;01mnot\u001b[39;00m f\u001b[38;5;241m.\u001b[39mdone():\n\u001b[0;32m     88\u001b[0m     \u001b[38;5;28;01mraise\u001b[39;00m \u001b[38;5;167;01mRuntimeError\u001b[39;00m(\n\u001b[0;32m     89\u001b[0m         \u001b[38;5;124m'\u001b[39m\u001b[38;5;124mEvent loop stopped before Future completed.\u001b[39m\u001b[38;5;124m'\u001b[39m)\n\u001b[1;32m---> 90\u001b[0m \u001b[38;5;28;01mreturn\u001b[39;00m \u001b[43mf\u001b[49m\u001b[38;5;241;43m.\u001b[39;49m\u001b[43mresult\u001b[49m\u001b[43m(\u001b[49m\u001b[43m)\u001b[49m\n",
      "File \u001b[1;32m~\\AppData\\Local\\Programs\\Python\\Python311\\Lib\\asyncio\\futures.py:203\u001b[0m, in \u001b[0;36mFuture.result\u001b[1;34m(self)\u001b[0m\n\u001b[0;32m    201\u001b[0m \u001b[38;5;28mself\u001b[39m\u001b[38;5;241m.\u001b[39m__log_traceback \u001b[38;5;241m=\u001b[39m \u001b[38;5;28;01mFalse\u001b[39;00m\n\u001b[0;32m    202\u001b[0m \u001b[38;5;28;01mif\u001b[39;00m \u001b[38;5;28mself\u001b[39m\u001b[38;5;241m.\u001b[39m_exception \u001b[38;5;129;01mis\u001b[39;00m \u001b[38;5;129;01mnot\u001b[39;00m \u001b[38;5;28;01mNone\u001b[39;00m:\n\u001b[1;32m--> 203\u001b[0m     \u001b[38;5;28;01mraise\u001b[39;00m \u001b[38;5;28mself\u001b[39m\u001b[38;5;241m.\u001b[39m_exception\u001b[38;5;241m.\u001b[39mwith_traceback(\u001b[38;5;28mself\u001b[39m\u001b[38;5;241m.\u001b[39m_exception_tb)\n\u001b[0;32m    204\u001b[0m \u001b[38;5;28;01mreturn\u001b[39;00m \u001b[38;5;28mself\u001b[39m\u001b[38;5;241m.\u001b[39m_result\n",
      "File \u001b[1;32m~\\AppData\\Local\\Programs\\Python\\Python311\\Lib\\asyncio\\tasks.py:267\u001b[0m, in \u001b[0;36mTask.__step\u001b[1;34m(***failed resolving arguments***)\u001b[0m\n\u001b[0;32m    263\u001b[0m \u001b[38;5;28;01mtry\u001b[39;00m:\n\u001b[0;32m    264\u001b[0m     \u001b[38;5;28;01mif\u001b[39;00m exc \u001b[38;5;129;01mis\u001b[39;00m \u001b[38;5;28;01mNone\u001b[39;00m:\n\u001b[0;32m    265\u001b[0m         \u001b[38;5;66;03m# We use the `send` method directly, because coroutines\u001b[39;00m\n\u001b[0;32m    266\u001b[0m         \u001b[38;5;66;03m# don't have `__iter__` and `__next__` methods.\u001b[39;00m\n\u001b[1;32m--> 267\u001b[0m         result \u001b[38;5;241m=\u001b[39m coro\u001b[38;5;241m.\u001b[39msend(\u001b[38;5;28;01mNone\u001b[39;00m)\n\u001b[0;32m    268\u001b[0m     \u001b[38;5;28;01melse\u001b[39;00m:\n\u001b[0;32m    269\u001b[0m         result \u001b[38;5;241m=\u001b[39m coro\u001b[38;5;241m.\u001b[39mthrow(exc)\n",
      "File \u001b[1;32m~\\Desktop\\ECE4160LabCode\\ble_python\\base_ble.py:96\u001b[0m, in \u001b[0;36mBLEAsyncDevice._disconnect\u001b[1;34m(self)\u001b[0m\n\u001b[0;32m     94\u001b[0m     \u001b[38;5;28;01mawait\u001b[39;00m \u001b[38;5;28mself\u001b[39m\u001b[38;5;241m.\u001b[39mclient\u001b[38;5;241m.\u001b[39mdisconnect()\n\u001b[0;32m     95\u001b[0m \u001b[38;5;28;01melse\u001b[39;00m:\n\u001b[1;32m---> 96\u001b[0m     \u001b[38;5;28;01mraise\u001b[39;00m \u001b[38;5;167;01mException\u001b[39;00m(\u001b[38;5;124m\"\u001b[39m\u001b[38;5;124mNot connected to a BLE device\u001b[39m\u001b[38;5;124m\"\u001b[39m)\n",
      "\u001b[1;31mException\u001b[0m: Not connected to a BLE device"
     ]
    }
   ],
   "source": [
    "# Disconnect\n",
    "ble.disconnect()"
   ]
  },
  {
   "cell_type": "code",
   "execution_count": null,
   "metadata": {},
   "outputs": [],
   "source": []
  }
 ],
 "metadata": {
  "kernelspec": {
   "display_name": "Python 3 (ipykernel)",
   "language": "python",
   "name": "python3"
  },
  "language_info": {
   "codemirror_mode": {
    "name": "ipython",
    "version": 3
   },
   "file_extension": ".py",
   "mimetype": "text/x-python",
   "name": "python",
   "nbconvert_exporter": "python",
   "pygments_lexer": "ipython3",
   "version": "3.11.1"
  }
 },
 "nbformat": 4,
 "nbformat_minor": 4
}
